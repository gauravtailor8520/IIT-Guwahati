{
 "cells": [
  {
   "cell_type": "markdown",
   "id": "b03d3cac",
   "metadata": {
    "papermill": {
     "duration": 0.006367,
     "end_time": "2025-02-01T08:18:09.363451",
     "exception": false,
     "start_time": "2025-02-01T08:18:09.357084",
     "status": "completed"
    },
    "tags": []
   },
   "source": [
    "##### Each column provides specific information about the patient, their admission, and the healthcare services provided, making this dataset suitable for various data analysis and modeling tasks in the healthcare domain. Here's a brief explanation of each column in the dataset -\n",
    "\n",
    "1.Name: This column represents the name of the patient associated with the healthcare record.\n",
    "\n",
    "2.Age: The age of the patient at the time of admission, expressed in years.\n",
    "\n",
    "3.Gender: Indicates the gender of the patient, either \"Male\" or \"Female.\"\n",
    "\n",
    "4.Blood Type: The patient's blood type, which can be one of the common blood types (e.g., \"A+\", \"O-\", etc.).\n",
    "\n",
    "5,Medical Condition: This column specifies the primary medical condition or diagnosis associated with the patient, such as \"Diabetes,\" \"Hypertension,\" \"Asthma,\" and more.\n",
    "\n",
    "6.Date of Admission: The date on which the patient was admitted to the healthcare facility.\n",
    "\n",
    "7.Doctor: The name of the doctor responsible for the patient's care during their admission.\n",
    "\n",
    "8.Hospital: Identifies the healthcare facility or hospital where the patient was admitted.\n",
    "\n",
    "9.Insurance Provider: This column indicates the patient's insurance provider, which can be one of several options, including \"Aetna,\" \"Blue Cross,\" \"Cigna,\" \"UnitedHealthcare,\" and \"Medicare.\"\n",
    "\n",
    "10.Billing Amount: The amount of money billed for the patient's healthcare services during their admission. This is expressed as a floating-point number.\n",
    "\n",
    "11.Room Number: The room number where the patient was accommodated during their admission.\n",
    "\n",
    "12.Admission Type: Specifies the type of admission, which can be \"Emergency,\" \"Elective,\" or \"Urgent,\" reflecting the circumstances of the admission.\n",
    "\n",
    "13.Discharge Date: The date on which the patient was discharged from the healthcare facility, based on the admission date and a random number of days within a realistic range.\n",
    "\n",
    "14.Medication: Identifies a medication prescribed or administered to the patient during their admission. Examples include \"Aspirin,\" \"Ibuprofen,\" \"Penicillin,\" \"Paracetamol,\" and \"Lipitor.\"\n",
    "\n",
    "15.Test Results: Describes the results of a medical test conducted during the patient's admission. Possible values include \"Normal,\" \"Abnormal,\" or \"Inconclusive,\" indicating the outcome of the test."
   ]
  },
  {
   "cell_type": "markdown",
   "id": "14b65d3c",
   "metadata": {
    "papermill": {
     "duration": 0.006269,
     "end_time": "2025-02-01T08:18:09.376133",
     "exception": false,
     "start_time": "2025-02-01T08:18:09.369864",
     "status": "completed"
    },
    "tags": []
   },
   "source": [
    "#### I'll start by analyzing your dataset to understand its structure and contents. Then, I'll perform data preprocessing, feature engineering, data visualization, and model selection.\n",
    "\n"
   ]
  },
  {
   "cell_type": "code",
   "execution_count": 2,
   "id": "2e44bbd3",
   "metadata": {
    "execution": {
     "iopub.execute_input": "2025-02-01T08:18:09.389769Z",
     "iopub.status.busy": "2025-02-01T08:18:09.389452Z",
     "iopub.status.idle": "2025-02-01T08:18:10.629923Z",
     "shell.execute_reply": "2025-02-01T08:18:10.629288Z"
    },
    "papermill": {
     "duration": 1.248923,
     "end_time": "2025-02-01T08:18:10.631440",
     "exception": false,
     "start_time": "2025-02-01T08:18:09.382517",
     "status": "completed"
    },
    "tags": []
   },
   "outputs": [],
   "source": [
    "import seaborn as sns\n",
    "import matplotlib.pyplot as plt \n"
   ]
  },
  {
   "cell_type": "markdown",
   "id": "09a08711",
   "metadata": {
    "papermill": {
     "duration": 0.00633,
     "end_time": "2025-02-01T08:18:10.644739",
     "exception": false,
     "start_time": "2025-02-01T08:18:10.638409",
     "status": "completed"
    },
    "tags": []
   },
   "source": [
    "# Dataset Summary\n",
    "####  Dataset contains 55,500 records with 15 columns related to healthcare admissions. Here's a breakdown:\n",
    "\n",
    "#### Key Columns & Data Types\n",
    "Date Columns:\n",
    "Date of Admission\n",
    "Discharge Date\n",
    "Numerical Columns:\n",
    "Age, Billing Amount, Room Number\n",
    "\n",
    "\n",
    "#### Categorical Columns:\n",
    "\n",
    "Gender, Blood Type, Medical Condition, Doctor, Hospital, Insurance Provider, Admission Type, Medication, Test Results"
   ]
  },
  {
   "cell_type": "code",
   "execution_count": null,
   "id": "de16b960",
   "metadata": {
    "execution": {
     "iopub.execute_input": "2025-02-01T08:18:10.658688Z",
     "iopub.status.busy": "2025-02-01T08:18:10.658370Z",
     "iopub.status.idle": "2025-02-01T08:18:10.961181Z",
     "shell.execute_reply": "2025-02-01T08:18:10.960339Z"
    },
    "papermill": {
     "duration": 0.311247,
     "end_time": "2025-02-01T08:18:10.962548",
     "exception": false,
     "start_time": "2025-02-01T08:18:10.651301",
     "status": "completed"
    },
    "tags": []
   },
   "outputs": [
    {
     "data": {
      "text/html": [
       "<div>\n",
       "<style scoped>\n",
       "    .dataframe tbody tr th:only-of-type {\n",
       "        vertical-align: middle;\n",
       "    }\n",
       "\n",
       "    .dataframe tbody tr th {\n",
       "        vertical-align: top;\n",
       "    }\n",
       "\n",
       "    .dataframe thead th {\n",
       "        text-align: right;\n",
       "    }\n",
       "</style>\n",
       "<table border=\"1\" class=\"dataframe\">\n",
       "  <thead>\n",
       "    <tr style=\"text-align: right;\">\n",
       "      <th></th>\n",
       "      <th>Name</th>\n",
       "      <th>Age</th>\n",
       "      <th>Gender</th>\n",
       "      <th>Blood Type</th>\n",
       "      <th>Medical Condition</th>\n",
       "      <th>Date of Admission</th>\n",
       "      <th>Doctor</th>\n",
       "      <th>Hospital</th>\n",
       "      <th>Insurance Provider</th>\n",
       "      <th>Billing Amount</th>\n",
       "      <th>Room Number</th>\n",
       "      <th>Admission Type</th>\n",
       "      <th>Discharge Date</th>\n",
       "      <th>Medication</th>\n",
       "      <th>Test Results</th>\n",
       "    </tr>\n",
       "  </thead>\n",
       "  <tbody>\n",
       "    <tr>\n",
       "      <th>0</th>\n",
       "      <td>Bobby JacksOn</td>\n",
       "      <td>30</td>\n",
       "      <td>Male</td>\n",
       "      <td>B-</td>\n",
       "      <td>Cancer</td>\n",
       "      <td>2024-01-31</td>\n",
       "      <td>Matthew Smith</td>\n",
       "      <td>Sons and Miller</td>\n",
       "      <td>Blue Cross</td>\n",
       "      <td>18856.281306</td>\n",
       "      <td>328</td>\n",
       "      <td>Urgent</td>\n",
       "      <td>2024-02-02</td>\n",
       "      <td>Paracetamol</td>\n",
       "      <td>Normal</td>\n",
       "    </tr>\n",
       "    <tr>\n",
       "      <th>1</th>\n",
       "      <td>LesLie TErRy</td>\n",
       "      <td>62</td>\n",
       "      <td>Male</td>\n",
       "      <td>A+</td>\n",
       "      <td>Obesity</td>\n",
       "      <td>2019-08-20</td>\n",
       "      <td>Samantha Davies</td>\n",
       "      <td>Kim Inc</td>\n",
       "      <td>Medicare</td>\n",
       "      <td>33643.327287</td>\n",
       "      <td>265</td>\n",
       "      <td>Emergency</td>\n",
       "      <td>2019-08-26</td>\n",
       "      <td>Ibuprofen</td>\n",
       "      <td>Inconclusive</td>\n",
       "    </tr>\n",
       "    <tr>\n",
       "      <th>2</th>\n",
       "      <td>DaNnY sMitH</td>\n",
       "      <td>76</td>\n",
       "      <td>Female</td>\n",
       "      <td>A-</td>\n",
       "      <td>Obesity</td>\n",
       "      <td>2022-09-22</td>\n",
       "      <td>Tiffany Mitchell</td>\n",
       "      <td>Cook PLC</td>\n",
       "      <td>Aetna</td>\n",
       "      <td>27955.096079</td>\n",
       "      <td>205</td>\n",
       "      <td>Emergency</td>\n",
       "      <td>2022-10-07</td>\n",
       "      <td>Aspirin</td>\n",
       "      <td>Normal</td>\n",
       "    </tr>\n",
       "    <tr>\n",
       "      <th>3</th>\n",
       "      <td>andrEw waTtS</td>\n",
       "      <td>28</td>\n",
       "      <td>Female</td>\n",
       "      <td>O+</td>\n",
       "      <td>Diabetes</td>\n",
       "      <td>2020-11-18</td>\n",
       "      <td>Kevin Wells</td>\n",
       "      <td>Hernandez Rogers and Vang,</td>\n",
       "      <td>Medicare</td>\n",
       "      <td>37909.782410</td>\n",
       "      <td>450</td>\n",
       "      <td>Elective</td>\n",
       "      <td>2020-12-18</td>\n",
       "      <td>Ibuprofen</td>\n",
       "      <td>Abnormal</td>\n",
       "    </tr>\n",
       "    <tr>\n",
       "      <th>4</th>\n",
       "      <td>adrIENNE bEll</td>\n",
       "      <td>43</td>\n",
       "      <td>Female</td>\n",
       "      <td>AB+</td>\n",
       "      <td>Cancer</td>\n",
       "      <td>2022-09-19</td>\n",
       "      <td>Kathleen Hanna</td>\n",
       "      <td>White-White</td>\n",
       "      <td>Aetna</td>\n",
       "      <td>14238.317814</td>\n",
       "      <td>458</td>\n",
       "      <td>Urgent</td>\n",
       "      <td>2022-10-09</td>\n",
       "      <td>Penicillin</td>\n",
       "      <td>Abnormal</td>\n",
       "    </tr>\n",
       "  </tbody>\n",
       "</table>\n",
       "</div>"
      ],
      "text/plain": [
       "            Name  Age  Gender Blood Type Medical Condition Date of Admission  \\\n",
       "0  Bobby JacksOn   30    Male         B-            Cancer        2024-01-31   \n",
       "1   LesLie TErRy   62    Male         A+           Obesity        2019-08-20   \n",
       "2    DaNnY sMitH   76  Female         A-           Obesity        2022-09-22   \n",
       "3   andrEw waTtS   28  Female         O+          Diabetes        2020-11-18   \n",
       "4  adrIENNE bEll   43  Female        AB+            Cancer        2022-09-19   \n",
       "\n",
       "             Doctor                    Hospital Insurance Provider  \\\n",
       "0     Matthew Smith             Sons and Miller         Blue Cross   \n",
       "1   Samantha Davies                     Kim Inc           Medicare   \n",
       "2  Tiffany Mitchell                    Cook PLC              Aetna   \n",
       "3       Kevin Wells  Hernandez Rogers and Vang,           Medicare   \n",
       "4    Kathleen Hanna                 White-White              Aetna   \n",
       "\n",
       "   Billing Amount  Room Number Admission Type Discharge Date   Medication  \\\n",
       "0    18856.281306          328         Urgent     2024-02-02  Paracetamol   \n",
       "1    33643.327287          265      Emergency     2019-08-26    Ibuprofen   \n",
       "2    27955.096079          205      Emergency     2022-10-07      Aspirin   \n",
       "3    37909.782410          450       Elective     2020-12-18    Ibuprofen   \n",
       "4    14238.317814          458         Urgent     2022-10-09   Penicillin   \n",
       "\n",
       "   Test Results  \n",
       "0        Normal  \n",
       "1  Inconclusive  \n",
       "2        Normal  \n",
       "3      Abnormal  \n",
       "4      Abnormal  "
      ]
     },
     "execution_count": 3,
     "metadata": {},
     "output_type": "execute_result"
    }
   ],
   "source": [
    "data=pd.read_csv('healthcare-dataset/healthcare_dataset.csv')\n",
    "data.head()"
   ]
  },
  {
   "cell_type": "code",
   "execution_count": 4,
   "id": "5fcd9687",
   "metadata": {
    "execution": {
     "iopub.execute_input": "2025-02-01T08:18:10.977027Z",
     "iopub.status.busy": "2025-02-01T08:18:10.976799Z",
     "iopub.status.idle": "2025-02-01T08:18:10.980941Z",
     "shell.execute_reply": "2025-02-01T08:18:10.980305Z"
    },
    "papermill": {
     "duration": 0.012547,
     "end_time": "2025-02-01T08:18:10.982061",
     "exception": false,
     "start_time": "2025-02-01T08:18:10.969514",
     "status": "completed"
    },
    "tags": []
   },
   "outputs": [
    {
     "data": {
      "text/plain": [
       "(55500, 15)"
      ]
     },
     "execution_count": 4,
     "metadata": {},
     "output_type": "execute_result"
    }
   ],
   "source": [
    "data.shape"
   ]
  },
  {
   "cell_type": "code",
   "execution_count": 5,
   "id": "9747d3e4",
   "metadata": {
    "execution": {
     "iopub.execute_input": "2025-02-01T08:18:10.996610Z",
     "iopub.status.busy": "2025-02-01T08:18:10.996386Z",
     "iopub.status.idle": "2025-02-01T08:18:11.047847Z",
     "shell.execute_reply": "2025-02-01T08:18:11.047003Z"
    },
    "papermill": {
     "duration": 0.060189,
     "end_time": "2025-02-01T08:18:11.049122",
     "exception": false,
     "start_time": "2025-02-01T08:18:10.988933",
     "status": "completed"
    },
    "tags": []
   },
   "outputs": [
    {
     "name": "stdout",
     "output_type": "stream",
     "text": [
      "<class 'pandas.core.frame.DataFrame'>\n",
      "RangeIndex: 55500 entries, 0 to 55499\n",
      "Data columns (total 15 columns):\n",
      " #   Column              Non-Null Count  Dtype  \n",
      "---  ------              --------------  -----  \n",
      " 0   Name                55500 non-null  object \n",
      " 1   Age                 55500 non-null  int64  \n",
      " 2   Gender              55500 non-null  object \n",
      " 3   Blood Type          55500 non-null  object \n",
      " 4   Medical Condition   55500 non-null  object \n",
      " 5   Date of Admission   55500 non-null  object \n",
      " 6   Doctor              55500 non-null  object \n",
      " 7   Hospital            55500 non-null  object \n",
      " 8   Insurance Provider  55500 non-null  object \n",
      " 9   Billing Amount      55500 non-null  float64\n",
      " 10  Room Number         55500 non-null  int64  \n",
      " 11  Admission Type      55500 non-null  object \n",
      " 12  Discharge Date      55500 non-null  object \n",
      " 13  Medication          55500 non-null  object \n",
      " 14  Test Results        55500 non-null  object \n",
      "dtypes: float64(1), int64(2), object(12)\n",
      "memory usage: 6.4+ MB\n"
     ]
    }
   ],
   "source": [
    "data.info()"
   ]
  },
  {
   "cell_type": "code",
   "execution_count": 6,
   "id": "51da007e",
   "metadata": {
    "execution": {
     "iopub.execute_input": "2025-02-01T08:18:11.064102Z",
     "iopub.status.busy": "2025-02-01T08:18:11.063865Z",
     "iopub.status.idle": "2025-02-01T08:18:11.096985Z",
     "shell.execute_reply": "2025-02-01T08:18:11.096321Z"
    },
    "papermill": {
     "duration": 0.042167,
     "end_time": "2025-02-01T08:18:11.098289",
     "exception": false,
     "start_time": "2025-02-01T08:18:11.056122",
     "status": "completed"
    },
    "tags": []
   },
   "outputs": [
    {
     "data": {
      "text/plain": [
       "Name                  0\n",
       "Age                   0\n",
       "Gender                0\n",
       "Blood Type            0\n",
       "Medical Condition     0\n",
       "Date of Admission     0\n",
       "Doctor                0\n",
       "Hospital              0\n",
       "Insurance Provider    0\n",
       "Billing Amount        0\n",
       "Room Number           0\n",
       "Admission Type        0\n",
       "Discharge Date        0\n",
       "Medication            0\n",
       "Test Results          0\n",
       "dtype: int64"
      ]
     },
     "execution_count": 6,
     "metadata": {},
     "output_type": "execute_result"
    }
   ],
   "source": [
    "data.isnull().sum()"
   ]
  },
  {
   "cell_type": "code",
   "execution_count": 7,
   "id": "678d53ee",
   "metadata": {
    "execution": {
     "iopub.execute_input": "2025-02-01T08:18:11.113326Z",
     "iopub.status.busy": "2025-02-01T08:18:11.113049Z",
     "iopub.status.idle": "2025-02-01T08:18:11.120161Z",
     "shell.execute_reply": "2025-02-01T08:18:11.119408Z"
    },
    "papermill": {
     "duration": 0.016004,
     "end_time": "2025-02-01T08:18:11.121349",
     "exception": false,
     "start_time": "2025-02-01T08:18:11.105345",
     "status": "completed"
    },
    "tags": []
   },
   "outputs": [
    {
     "data": {
      "text/plain": [
       "array(['Normal', 'Inconclusive', 'Abnormal'], dtype=object)"
      ]
     },
     "execution_count": 7,
     "metadata": {},
     "output_type": "execute_result"
    }
   ],
   "source": [
    "data['Test Results'].unique()"
   ]
  },
  {
   "cell_type": "code",
   "execution_count": 8,
   "id": "732738b9",
   "metadata": {
    "execution": {
     "iopub.execute_input": "2025-02-01T08:18:11.136201Z",
     "iopub.status.busy": "2025-02-01T08:18:11.135979Z",
     "iopub.status.idle": "2025-02-01T08:18:11.143259Z",
     "shell.execute_reply": "2025-02-01T08:18:11.142480Z"
    },
    "papermill": {
     "duration": 0.015997,
     "end_time": "2025-02-01T08:18:11.144445",
     "exception": false,
     "start_time": "2025-02-01T08:18:11.128448",
     "status": "completed"
    },
    "tags": []
   },
   "outputs": [
    {
     "data": {
      "text/plain": [
       "array(['Paracetamol', 'Ibuprofen', 'Aspirin', 'Penicillin', 'Lipitor'],\n",
       "      dtype=object)"
      ]
     },
     "execution_count": 8,
     "metadata": {},
     "output_type": "execute_result"
    }
   ],
   "source": [
    "data['Medication'].unique()"
   ]
  },
  {
   "cell_type": "code",
   "execution_count": 9,
   "id": "363a2b73",
   "metadata": {
    "execution": {
     "iopub.execute_input": "2025-02-01T08:18:11.159356Z",
     "iopub.status.busy": "2025-02-01T08:18:11.159076Z",
     "iopub.status.idle": "2025-02-01T08:18:11.166127Z",
     "shell.execute_reply": "2025-02-01T08:18:11.165379Z"
    },
    "papermill": {
     "duration": 0.01578,
     "end_time": "2025-02-01T08:18:11.167308",
     "exception": false,
     "start_time": "2025-02-01T08:18:11.151528",
     "status": "completed"
    },
    "tags": []
   },
   "outputs": [
    {
     "data": {
      "text/plain": [
       "array(['Urgent', 'Emergency', 'Elective'], dtype=object)"
      ]
     },
     "execution_count": 9,
     "metadata": {},
     "output_type": "execute_result"
    }
   ],
   "source": [
    "data['Admission Type'].unique()"
   ]
  },
  {
   "cell_type": "code",
   "execution_count": 10,
   "id": "16f2ab97",
   "metadata": {
    "execution": {
     "iopub.execute_input": "2025-02-01T08:18:11.182612Z",
     "iopub.status.busy": "2025-02-01T08:18:11.182393Z",
     "iopub.status.idle": "2025-02-01T08:18:11.189589Z",
     "shell.execute_reply": "2025-02-01T08:18:11.188783Z"
    },
    "papermill": {
     "duration": 0.016166,
     "end_time": "2025-02-01T08:18:11.190802",
     "exception": false,
     "start_time": "2025-02-01T08:18:11.174636",
     "status": "completed"
    },
    "tags": []
   },
   "outputs": [
    {
     "data": {
      "text/plain": [
       "array(['Blue Cross', 'Medicare', 'Aetna', 'UnitedHealthcare', 'Cigna'],\n",
       "      dtype=object)"
      ]
     },
     "execution_count": 10,
     "metadata": {},
     "output_type": "execute_result"
    }
   ],
   "source": [
    "data['Insurance Provider'].unique()"
   ]
  },
  {
   "cell_type": "code",
   "execution_count": 11,
   "id": "b335eff9",
   "metadata": {
    "execution": {
     "iopub.execute_input": "2025-02-01T08:18:11.205753Z",
     "iopub.status.busy": "2025-02-01T08:18:11.205536Z",
     "iopub.status.idle": "2025-02-01T08:18:11.211525Z",
     "shell.execute_reply": "2025-02-01T08:18:11.210733Z"
    },
    "papermill": {
     "duration": 0.01479,
     "end_time": "2025-02-01T08:18:11.212810",
     "exception": false,
     "start_time": "2025-02-01T08:18:11.198020",
     "status": "completed"
    },
    "tags": []
   },
   "outputs": [
    {
     "data": {
      "text/plain": [
       "array([30, 62, 76, 28, 43, 36, 21, 20, 82, 58, 72, 38, 75, 68, 44, 46, 63,\n",
       "       34, 67, 48, 59, 73, 51, 23, 78, 25, 33, 26, 70, 57, 74, 81, 49, 65,\n",
       "       31, 22, 77, 42, 24, 84, 55, 40, 83, 18, 27, 19, 29, 61, 80, 60, 35,\n",
       "       79, 53, 69, 47, 85, 52, 37, 50, 32, 54, 45, 66, 39, 56, 64, 71, 41,\n",
       "       88, 17, 87, 86, 15, 16, 13, 14, 89])"
      ]
     },
     "execution_count": 11,
     "metadata": {},
     "output_type": "execute_result"
    }
   ],
   "source": [
    "data['Age'].unique()"
   ]
  },
  {
   "cell_type": "code",
   "execution_count": 12,
   "id": "4dc2aa7d",
   "metadata": {
    "execution": {
     "iopub.execute_input": "2025-02-01T08:18:11.228133Z",
     "iopub.status.busy": "2025-02-01T08:18:11.227927Z",
     "iopub.status.idle": "2025-02-01T08:18:11.234097Z",
     "shell.execute_reply": "2025-02-01T08:18:11.233492Z"
    },
    "papermill": {
     "duration": 0.01498,
     "end_time": "2025-02-01T08:18:11.235174",
     "exception": false,
     "start_time": "2025-02-01T08:18:11.220194",
     "status": "completed"
    },
    "tags": []
   },
   "outputs": [
    {
     "data": {
      "text/plain": [
       "array(['Male', 'Female'], dtype=object)"
      ]
     },
     "execution_count": 12,
     "metadata": {},
     "output_type": "execute_result"
    }
   ],
   "source": [
    "data['Gender'].unique()"
   ]
  },
  {
   "cell_type": "code",
   "execution_count": 13,
   "id": "5e66143c",
   "metadata": {
    "execution": {
     "iopub.execute_input": "2025-02-01T08:18:11.251878Z",
     "iopub.status.busy": "2025-02-01T08:18:11.251650Z",
     "iopub.status.idle": "2025-02-01T08:18:11.258243Z",
     "shell.execute_reply": "2025-02-01T08:18:11.257486Z"
    },
    "papermill": {
     "duration": 0.016928,
     "end_time": "2025-02-01T08:18:11.259387",
     "exception": false,
     "start_time": "2025-02-01T08:18:11.242459",
     "status": "completed"
    },
    "tags": []
   },
   "outputs": [
    {
     "data": {
      "text/plain": [
       "array(['B-', 'A+', 'A-', 'O+', 'AB+', 'AB-', 'B+', 'O-'], dtype=object)"
      ]
     },
     "execution_count": 13,
     "metadata": {},
     "output_type": "execute_result"
    }
   ],
   "source": [
    "data['Blood Type'].unique()"
   ]
  },
  {
   "cell_type": "code",
   "execution_count": 14,
   "id": "8788cff6",
   "metadata": {
    "execution": {
     "iopub.execute_input": "2025-02-01T08:18:11.274977Z",
     "iopub.status.busy": "2025-02-01T08:18:11.274746Z",
     "iopub.status.idle": "2025-02-01T08:18:11.281769Z",
     "shell.execute_reply": "2025-02-01T08:18:11.281012Z"
    },
    "papermill": {
     "duration": 0.01597,
     "end_time": "2025-02-01T08:18:11.282888",
     "exception": false,
     "start_time": "2025-02-01T08:18:11.266918",
     "status": "completed"
    },
    "tags": []
   },
   "outputs": [
    {
     "data": {
      "text/plain": [
       "array(['Cancer', 'Obesity', 'Diabetes', 'Asthma', 'Hypertension',\n",
       "       'Arthritis'], dtype=object)"
      ]
     },
     "execution_count": 14,
     "metadata": {},
     "output_type": "execute_result"
    }
   ],
   "source": [
    "data['Medical Condition'].unique()"
   ]
  },
  {
   "cell_type": "code",
   "execution_count": 15,
   "id": "64180e96",
   "metadata": {
    "execution": {
     "iopub.execute_input": "2025-02-01T08:18:11.298411Z",
     "iopub.status.busy": "2025-02-01T08:18:11.298159Z",
     "iopub.status.idle": "2025-02-01T08:18:11.304989Z",
     "shell.execute_reply": "2025-02-01T08:18:11.304245Z"
    },
    "papermill": {
     "duration": 0.015837,
     "end_time": "2025-02-01T08:18:11.306214",
     "exception": false,
     "start_time": "2025-02-01T08:18:11.290377",
     "status": "completed"
    },
    "tags": []
   },
   "outputs": [
    {
     "data": {
      "text/plain": [
       "array(['2024-01-31', '2019-08-20', '2022-09-22', ..., '2019-05-31',\n",
       "       '2023-10-12', '2021-03-14'], dtype=object)"
      ]
     },
     "execution_count": 15,
     "metadata": {},
     "output_type": "execute_result"
    }
   ],
   "source": [
    "data['Date of Admission'].unique()"
   ]
  },
  {
   "cell_type": "code",
   "execution_count": 16,
   "id": "de9a5f0d",
   "metadata": {
    "execution": {
     "iopub.execute_input": "2025-02-01T08:18:11.322113Z",
     "iopub.status.busy": "2025-02-01T08:18:11.321913Z",
     "iopub.status.idle": "2025-02-01T08:18:11.333997Z",
     "shell.execute_reply": "2025-02-01T08:18:11.333409Z"
    },
    "papermill": {
     "duration": 0.021572,
     "end_time": "2025-02-01T08:18:11.335306",
     "exception": false,
     "start_time": "2025-02-01T08:18:11.313734",
     "status": "completed"
    },
    "tags": []
   },
   "outputs": [
    {
     "data": {
      "text/plain": [
       "40341"
      ]
     },
     "execution_count": 16,
     "metadata": {},
     "output_type": "execute_result"
    }
   ],
   "source": [
    "data['Doctor'].nunique()"
   ]
  },
  {
   "cell_type": "code",
   "execution_count": 17,
   "id": "228da1b7",
   "metadata": {
    "execution": {
     "iopub.execute_input": "2025-02-01T08:18:11.351890Z",
     "iopub.status.busy": "2025-02-01T08:18:11.351657Z",
     "iopub.status.idle": "2025-02-01T08:18:11.358742Z",
     "shell.execute_reply": "2025-02-01T08:18:11.357949Z"
    },
    "papermill": {
     "duration": 0.016378,
     "end_time": "2025-02-01T08:18:11.359892",
     "exception": false,
     "start_time": "2025-02-01T08:18:11.343514",
     "status": "completed"
    },
    "tags": []
   },
   "outputs": [
    {
     "data": {
      "text/plain": [
       "array(['Blue Cross', 'Medicare', 'Aetna', 'UnitedHealthcare', 'Cigna'],\n",
       "      dtype=object)"
      ]
     },
     "execution_count": 17,
     "metadata": {},
     "output_type": "execute_result"
    }
   ],
   "source": [
    "data['Insurance Provider'].unique()"
   ]
  },
  {
   "cell_type": "code",
   "execution_count": 18,
   "id": "ef25d4f3",
   "metadata": {
    "execution": {
     "iopub.execute_input": "2025-02-01T08:18:11.376252Z",
     "iopub.status.busy": "2025-02-01T08:18:11.375998Z",
     "iopub.status.idle": "2025-02-01T08:18:11.383147Z",
     "shell.execute_reply": "2025-02-01T08:18:11.382388Z"
    },
    "papermill": {
     "duration": 0.016691,
     "end_time": "2025-02-01T08:18:11.384497",
     "exception": false,
     "start_time": "2025-02-01T08:18:11.367806",
     "status": "completed"
    },
    "tags": []
   },
   "outputs": [
    {
     "data": {
      "text/plain": [
       "array(['Urgent', 'Emergency', 'Elective'], dtype=object)"
      ]
     },
     "execution_count": 18,
     "metadata": {},
     "output_type": "execute_result"
    }
   ],
   "source": [
    "data['Admission Type'].unique()"
   ]
  },
  {
   "cell_type": "code",
   "execution_count": 19,
   "id": "17261153",
   "metadata": {
    "execution": {
     "iopub.execute_input": "2025-02-01T08:18:11.400753Z",
     "iopub.status.busy": "2025-02-01T08:18:11.400546Z",
     "iopub.status.idle": "2025-02-01T08:18:11.421011Z",
     "shell.execute_reply": "2025-02-01T08:18:11.420372Z"
    },
    "papermill": {
     "duration": 0.029903,
     "end_time": "2025-02-01T08:18:11.422266",
     "exception": false,
     "start_time": "2025-02-01T08:18:11.392363",
     "status": "completed"
    },
    "tags": []
   },
   "outputs": [
    {
     "data": {
      "text/html": [
       "<div>\n",
       "<style scoped>\n",
       "    .dataframe tbody tr th:only-of-type {\n",
       "        vertical-align: middle;\n",
       "    }\n",
       "\n",
       "    .dataframe tbody tr th {\n",
       "        vertical-align: top;\n",
       "    }\n",
       "\n",
       "    .dataframe thead th {\n",
       "        text-align: right;\n",
       "    }\n",
       "</style>\n",
       "<table border=\"1\" class=\"dataframe\">\n",
       "  <thead>\n",
       "    <tr style=\"text-align: right;\">\n",
       "      <th></th>\n",
       "      <th>Age</th>\n",
       "      <th>Billing Amount</th>\n",
       "      <th>Room Number</th>\n",
       "    </tr>\n",
       "  </thead>\n",
       "  <tbody>\n",
       "    <tr>\n",
       "      <th>count</th>\n",
       "      <td>55500.000000</td>\n",
       "      <td>55500.000000</td>\n",
       "      <td>55500.000000</td>\n",
       "    </tr>\n",
       "    <tr>\n",
       "      <th>mean</th>\n",
       "      <td>51.539459</td>\n",
       "      <td>25539.316097</td>\n",
       "      <td>301.134829</td>\n",
       "    </tr>\n",
       "    <tr>\n",
       "      <th>std</th>\n",
       "      <td>19.602454</td>\n",
       "      <td>14211.454431</td>\n",
       "      <td>115.243069</td>\n",
       "    </tr>\n",
       "    <tr>\n",
       "      <th>min</th>\n",
       "      <td>13.000000</td>\n",
       "      <td>-2008.492140</td>\n",
       "      <td>101.000000</td>\n",
       "    </tr>\n",
       "    <tr>\n",
       "      <th>25%</th>\n",
       "      <td>35.000000</td>\n",
       "      <td>13241.224652</td>\n",
       "      <td>202.000000</td>\n",
       "    </tr>\n",
       "    <tr>\n",
       "      <th>50%</th>\n",
       "      <td>52.000000</td>\n",
       "      <td>25538.069376</td>\n",
       "      <td>302.000000</td>\n",
       "    </tr>\n",
       "    <tr>\n",
       "      <th>75%</th>\n",
       "      <td>68.000000</td>\n",
       "      <td>37820.508436</td>\n",
       "      <td>401.000000</td>\n",
       "    </tr>\n",
       "    <tr>\n",
       "      <th>max</th>\n",
       "      <td>89.000000</td>\n",
       "      <td>52764.276736</td>\n",
       "      <td>500.000000</td>\n",
       "    </tr>\n",
       "  </tbody>\n",
       "</table>\n",
       "</div>"
      ],
      "text/plain": [
       "                Age  Billing Amount   Room Number\n",
       "count  55500.000000    55500.000000  55500.000000\n",
       "mean      51.539459    25539.316097    301.134829\n",
       "std       19.602454    14211.454431    115.243069\n",
       "min       13.000000    -2008.492140    101.000000\n",
       "25%       35.000000    13241.224652    202.000000\n",
       "50%       52.000000    25538.069376    302.000000\n",
       "75%       68.000000    37820.508436    401.000000\n",
       "max       89.000000    52764.276736    500.000000"
      ]
     },
     "execution_count": 19,
     "metadata": {},
     "output_type": "execute_result"
    }
   ],
   "source": [
    "data.describe()"
   ]
  },
  {
   "cell_type": "markdown",
   "id": "b89d17fd",
   "metadata": {
    "papermill": {
     "duration": 0.007962,
     "end_time": "2025-02-01T08:18:11.438317",
     "exception": false,
     "start_time": "2025-02-01T08:18:11.430355",
     "status": "completed"
    },
    "tags": []
   },
   "source": [
    "## Next Steps\n",
    "\n",
    "✅ Data Visualization – Understand trends in medical conditions, admissions, and billing amounts.\n",
    "\n",
    "✅ Data Preprocessing – Handle missing values, convert dates, and clean categorical data.\n",
    "\n",
    "✅ Feature Engineering – Create useful features from dates, encode categorical data, and normalize numerical values.\n",
    "\n",
    "\n",
    "✅ Model Selection – Use LSTM/RNN for time-based prediction tasks (e.g., hospital stay duration, cost forecasting)."
   ]
  },
  {
   "cell_type": "code",
   "execution_count": 20,
   "id": "6e36f70b",
   "metadata": {
    "execution": {
     "iopub.execute_input": "2025-02-01T08:18:11.455406Z",
     "iopub.status.busy": "2025-02-01T08:18:11.455143Z",
     "iopub.status.idle": "2025-02-01T08:18:11.459673Z",
     "shell.execute_reply": "2025-02-01T08:18:11.458870Z"
    },
    "papermill": {
     "duration": 0.014307,
     "end_time": "2025-02-01T08:18:11.460917",
     "exception": false,
     "start_time": "2025-02-01T08:18:11.446610",
     "status": "completed"
    },
    "tags": []
   },
   "outputs": [
    {
     "data": {
      "text/plain": [
       "Index(['Name', 'Age', 'Gender', 'Blood Type', 'Medical Condition',\n",
       "       'Date of Admission', 'Doctor', 'Hospital', 'Insurance Provider',\n",
       "       'Billing Amount', 'Room Number', 'Admission Type', 'Discharge Date',\n",
       "       'Medication', 'Test Results'],\n",
       "      dtype='object')"
      ]
     },
     "execution_count": 20,
     "metadata": {},
     "output_type": "execute_result"
    }
   ],
   "source": [
    "data.columns"
   ]
  },
  {
   "cell_type": "markdown",
   "id": "23e17e14",
   "metadata": {
    "papermill": {
     "duration": 0.007793,
     "end_time": "2025-02-01T08:18:11.476990",
     "exception": false,
     "start_time": "2025-02-01T08:18:11.469197",
     "status": "completed"
    },
    "tags": []
   },
   "source": [
    "# ✅ Data Visualization – Understand trends in medical conditions, admissions, and billing amounts.\n"
   ]
  },
  {
   "cell_type": "code",
   "execution_count": 21,
   "id": "0b57e788",
   "metadata": {
    "execution": {
     "iopub.execute_input": "2025-02-01T08:18:11.493736Z",
     "iopub.status.busy": "2025-02-01T08:18:11.493541Z",
     "iopub.status.idle": "2025-02-01T08:18:13.280682Z",
     "shell.execute_reply": "2025-02-01T08:18:13.279813Z"
    },
    "papermill": {
     "duration": 1.797371,
     "end_time": "2025-02-01T08:18:13.282217",
     "exception": false,
     "start_time": "2025-02-01T08:18:11.484846",
     "status": "completed"
    },
    "tags": []
   },
   "outputs": [
    {
     "name": "stderr",
     "output_type": "stream",
     "text": [
      "/usr/local/lib/python3.10/dist-packages/seaborn/_oldcore.py:1119: FutureWarning: use_inf_as_na option is deprecated and will be removed in a future version. Convert inf values to NaN before operating instead.\n",
      "  with pd.option_context('mode.use_inf_as_na', True):\n",
      "/usr/local/lib/python3.10/dist-packages/seaborn/_oldcore.py:1119: FutureWarning: use_inf_as_na option is deprecated and will be removed in a future version. Convert inf values to NaN before operating instead.\n",
      "  with pd.option_context('mode.use_inf_as_na', True):\n"
     ]
    },
    {
     "data": {
      "image/png": "[encoded data removed]",
      "text/plain": [
       "<Figure size 1200x600 with 3 Axes>"
      ]
     },
     "metadata": {},
     "output_type": "display_data"
    },
    {
     "data": {
      "image/png": "[encoded data removed]",
      "text/plain": [
       "<Figure size 1000x500 with 1 Axes>"
      ]
     },
     "metadata": {},
     "output_type": "display_data"
    },
    {
     "data": {
      "image/png": "[encoded data removed]",
      "text/plain": [
       "<Figure size 800x500 with 1 Axes>"
      ]
     },
     "metadata": {},
     "output_type": "display_data"
    },
    {
     "data": {
      "image/png": "[encoded data removed]",
      "text/plain": [
       "<Figure size 1000x500 with 1 Axes>"
      ]
     },
     "metadata": {},
     "output_type": "display_data"
    }
   ],
   "source": [
    "import matplotlib.pyplot as plt\n",
    "import seaborn as sns\n",
    "\n",
    "# Set style\n",
    "sns.set(style=\"whitegrid\")\n",
    "plt.figure(figsize=(12, 6))\n",
    "\n",
    "# 1️⃣ Age Distribution\n",
    "plt.subplot(2, 3, 1)\n",
    "sns.histplot(data[\"Age\"], bins=30, kde=True, color=\"blue\")\n",
    "plt.title(\"Age Distribution\")\n",
    "\n",
    "# 2️⃣ Gender Count\n",
    "plt.subplot(2, 3, 2)\n",
    "sns.countplot(x=data[\"Gender\"], palette=\"coolwarm\")\n",
    "plt.title(\"Gender Distribution\")\n",
    "\n",
    "# 3️⃣ Blood Type Count\n",
    "plt.subplot(2, 3, 3)\n",
    "sns.countplot(x=data[\"Blood Type\"], palette=\"muted\")\n",
    "plt.title(\"Blood Type Distribution\")\n",
    "\n",
    "# 4️⃣ Medical Condition Count\n",
    "plt.figure(figsize=(10, 5))\n",
    "sns.countplot(y=data[\"Medical Condition\"], palette=\"pastel\", order=data[\"Medical Condition\"].value_counts().index)\n",
    "plt.title(\"Medical Condition Distribution\")\n",
    "plt.xlabel(\"Count\")\n",
    "\n",
    "# 5️⃣ Billing Amount Distribution\n",
    "plt.figure(figsize=(8, 5))\n",
    "sns.histplot(data[\"Billing Amount\"], bins=30, kde=True, color=\"green\")\n",
    "plt.title(\"Billing Amount Distribution\")\n",
    "plt.xlabel(\"Billing Amount\")\n",
    "\n",
    "# 6️⃣ Admissions Over Time\n",
    "plt.figure(figsize=(10, 5))\n",
    "data[\"Date of Admission\"].value_counts().sort_index().plot()\n",
    "plt.title(\"Admissions Over Time\")\n",
    "plt.xlabel(\"Date of Admission\")\n",
    "plt.ylabel(\"Number of Patients\")\n",
    "\n",
    "plt.show()\n"
   ]
  },
  {
   "cell_type": "markdown",
   "id": "0c88df0f",
   "metadata": {
    "papermill": {
     "duration": 0.011715,
     "end_time": "2025-02-01T08:18:13.306208",
     "exception": false,
     "start_time": "2025-02-01T08:18:13.294493",
     "status": "completed"
    },
    "tags": []
   },
   "source": [
    "### Data Preprocessing  below Completed ✅\n",
    "\n",
    "Converted Date Columns (Date of Admission, Discharge Date) to datetime format.\n",
    "\n",
    "Standardized Text Data (Gender, Medical Condition, Admission Type, Test Results).\n",
    "\n",
    "Created New Feature: Length of Stay (Days between admission & discharge).\n",
    "\n",
    "No Missing Values detected."
   ]
  },
  {
   "cell_type": "code",
   "execution_count": 22,
   "id": "0a44c06b",
   "metadata": {
    "execution": {
     "iopub.execute_input": "2025-02-01T08:18:13.332337Z",
     "iopub.status.busy": "2025-02-01T08:18:13.331982Z",
     "iopub.status.idle": "2025-02-01T08:18:13.529988Z",
     "shell.execute_reply": "2025-02-01T08:18:13.529108Z"
    },
    "papermill": {
     "duration": 0.213279,
     "end_time": "2025-02-01T08:18:13.531357",
     "exception": false,
     "start_time": "2025-02-01T08:18:13.318078",
     "status": "completed"
    },
    "tags": []
   },
   "outputs": [
    {
     "name": "stdout",
     "output_type": "stream",
     "text": [
      "<class 'pandas.core.frame.DataFrame'>\n",
      "RangeIndex: 55500 entries, 0 to 55499\n",
      "Data columns (total 16 columns):\n",
      " #   Column              Non-Null Count  Dtype         \n",
      "---  ------              --------------  -----         \n",
      " 0   Name                55500 non-null  object        \n",
      " 1   Age                 55500 non-null  int64         \n",
      " 2   Gender              55500 non-null  object        \n",
      " 3   Blood Type          55500 non-null  object        \n",
      " 4   Medical Condition   55500 non-null  object        \n",
      " 5   Date of Admission   55500 non-null  datetime64[ns]\n",
      " 6   Doctor              55500 non-null  object        \n",
      " 7   Hospital            55500 non-null  object        \n",
      " 8   Insurance Provider  55500 non-null  object        \n",
      " 9   Billing Amount      55500 non-null  float64       \n",
      " 10  Room Number         55500 non-null  int64         \n",
      " 11  Admission Type      55500 non-null  object        \n",
      " 12  Discharge Date      55500 non-null  datetime64[ns]\n",
      " 13  Medication          55500 non-null  object        \n",
      " 14  Test Results        55500 non-null  object        \n",
      " 15  Length of Stay      55500 non-null  int64         \n",
      "dtypes: datetime64[ns](2), float64(1), int64(3), object(10)\n",
      "memory usage: 6.8+ MB\n"
     ]
    },
    {
     "data": {
      "text/plain": [
       "(None,\n",
       " Name                  0\n",
       " Age                   0\n",
       " Gender                0\n",
       " Blood Type            0\n",
       " Medical Condition     0\n",
       " Date of Admission     0\n",
       " Doctor                0\n",
       " Hospital              0\n",
       " Insurance Provider    0\n",
       " Billing Amount        0\n",
       " Room Number           0\n",
       " Admission Type        0\n",
       " Discharge Date        0\n",
       " Medication            0\n",
       " Test Results          0\n",
       " dtype: int64,\n",
       "             Name  Age  Gender Blood Type Medical Condition Date of Admission  \\\n",
       " 0  Bobby JacksOn   30    Male         B-            Cancer        2024-01-31   \n",
       " 1   LesLie TErRy   62    Male         A+           Obesity        2019-08-20   \n",
       " 2    DaNnY sMitH   76  Female         A-           Obesity        2022-09-22   \n",
       " 3   andrEw waTtS   28  Female         O+          Diabetes        2020-11-18   \n",
       " 4  adrIENNE bEll   43  Female        AB+            Cancer        2022-09-19   \n",
       " \n",
       "              Doctor                    Hospital Insurance Provider  \\\n",
       " 0     Matthew Smith             Sons and Miller         Blue Cross   \n",
       " 1   Samantha Davies                     Kim Inc           Medicare   \n",
       " 2  Tiffany Mitchell                    Cook PLC              Aetna   \n",
       " 3       Kevin Wells  Hernandez Rogers and Vang,           Medicare   \n",
       " 4    Kathleen Hanna                 White-White              Aetna   \n",
       " \n",
       "    Billing Amount  Room Number Admission Type Discharge Date   Medication  \\\n",
       " 0    18856.281306          328         Urgent     2024-02-02  Paracetamol   \n",
       " 1    33643.327287          265      Emergency     2019-08-26    Ibuprofen   \n",
       " 2    27955.096079          205      Emergency     2022-10-07      Aspirin   \n",
       " 3    37909.782410          450       Elective     2020-12-18    Ibuprofen   \n",
       " 4    14238.317814          458         Urgent     2022-10-09   Penicillin   \n",
       " \n",
       "    Test Results  Length of Stay  \n",
       " 0        Normal               2  \n",
       " 1  Inconclusive               6  \n",
       " 2        Normal              15  \n",
       " 3      Abnormal              30  \n",
       " 4      Abnormal              20  )"
      ]
     },
     "execution_count": 22,
     "metadata": {},
     "output_type": "execute_result"
    }
   ],
   "source": [
    "# Convert date columns to datetime format\n",
    "data[\"Date of Admission\"] = pd.to_datetime(data[\"Date of Admission\"], errors=\"coerce\")\n",
    "data[\"Discharge Date\"] = pd.to_datetime(data[\"Discharge Date\"], errors=\"coerce\")\n",
    "\n",
    "# Check for missing values\n",
    "missing_values = data.isnull().sum()\n",
    "\n",
    "# Standardize categorical text data (e.g., names, medical conditions)\n",
    "data[\"Gender\"] = data[\"Gender\"].str.strip().str.capitalize()\n",
    "data[\"Medical Condition\"] = data[\"Medical Condition\"].str.strip().str.title()\n",
    "data[\"Admission Type\"] = data[\"Admission Type\"].str.strip().str.title()\n",
    "data[\"Test Results\"] = data[\"Test Results\"].str.strip().str.title()\n",
    "\n",
    "# Derive new features from dates (Length of Stay)\n",
    "data[\"Length of Stay\"] = (data[\"Discharge Date\"] - data[\"Date of Admission\"]).dt.days\n",
    "\n",
    "# Display processed dataset summary\n",
    "data.info(), missing_values, data.head()\n"
   ]
  },
  {
   "cell_type": "code",
   "execution_count": 23,
   "id": "953bb127",
   "metadata": {
    "execution": {
     "iopub.execute_input": "2025-02-01T08:18:13.556723Z",
     "iopub.status.busy": "2025-02-01T08:18:13.556486Z",
     "iopub.status.idle": "2025-02-01T08:18:13.560907Z",
     "shell.execute_reply": "2025-02-01T08:18:13.560212Z"
    },
    "papermill": {
     "duration": 0.018291,
     "end_time": "2025-02-01T08:18:13.562148",
     "exception": false,
     "start_time": "2025-02-01T08:18:13.543857",
     "status": "completed"
    },
    "tags": []
   },
   "outputs": [
    {
     "data": {
      "text/plain": [
       "(55500, 16)"
      ]
     },
     "execution_count": 23,
     "metadata": {},
     "output_type": "execute_result"
    }
   ],
   "source": [
    "data.shape"
   ]
  },
  {
   "cell_type": "markdown",
   "id": "5578a992",
   "metadata": {
    "papermill": {
     "duration": 0.011608,
     "end_time": "2025-02-01T08:18:13.585628",
     "exception": false,
     "start_time": "2025-02-01T08:18:13.574020",
     "status": "completed"
    },
    "tags": []
   },
   "source": [
    "# Next Steps\n",
    "\n",
    "✅ Feature Engineering – Encode categorical data & create additional features.\n",
    "\n",
    "✅ Data Visualization – Explore trends in admission types, billing, length of stay.\n",
    "\n",
    "✅ Model Selection – Identify suitable models (LSTM, RNN) for prediction."
   ]
  },
  {
   "cell_type": "markdown",
   "id": "a076ce67",
   "metadata": {
    "papermill": {
     "duration": 0.011575,
     "end_time": "2025-02-01T08:18:13.609172",
     "exception": false,
     "start_time": "2025-02-01T08:18:13.597597",
     "status": "completed"
    },
    "tags": []
   },
   "source": [
    "\n",
    "# ✅ Feature Engineering – Encode categorical data & create additional features."
   ]
  },
  {
   "cell_type": "code",
   "execution_count": 24,
   "id": "8e325628",
   "metadata": {
    "execution": {
     "iopub.execute_input": "2025-02-01T08:18:13.633932Z",
     "iopub.status.busy": "2025-02-01T08:18:13.633711Z",
     "iopub.status.idle": "2025-02-01T08:18:13.640542Z",
     "shell.execute_reply": "2025-02-01T08:18:13.639884Z"
    },
    "papermill": {
     "duration": 0.020305,
     "end_time": "2025-02-01T08:18:13.641736",
     "exception": false,
     "start_time": "2025-02-01T08:18:13.621431",
     "status": "completed"
    },
    "tags": []
   },
   "outputs": [
    {
     "data": {
      "text/plain": [
       "array(['Male', 'Female'], dtype=object)"
      ]
     },
     "execution_count": 24,
     "metadata": {},
     "output_type": "execute_result"
    }
   ],
   "source": [
    "data['Gender'].unique()"
   ]
  },
  {
   "cell_type": "code",
   "execution_count": 25,
   "id": "bb0f107a",
   "metadata": {
    "execution": {
     "iopub.execute_input": "2025-02-01T08:18:13.666570Z",
     "iopub.status.busy": "2025-02-01T08:18:13.666355Z",
     "iopub.status.idle": "2025-02-01T08:18:13.748301Z",
     "shell.execute_reply": "2025-02-01T08:18:13.747302Z"
    },
    "papermill": {
     "duration": 0.096309,
     "end_time": "2025-02-01T08:18:13.749884",
     "exception": false,
     "start_time": "2025-02-01T08:18:13.653575",
     "status": "completed"
    },
    "tags": []
   },
   "outputs": [
    {
     "data": {
      "text/html": [
       "<div>\n",
       "<style scoped>\n",
       "    .dataframe tbody tr th:only-of-type {\n",
       "        vertical-align: middle;\n",
       "    }\n",
       "\n",
       "    .dataframe tbody tr th {\n",
       "        vertical-align: top;\n",
       "    }\n",
       "\n",
       "    .dataframe thead th {\n",
       "        text-align: right;\n",
       "    }\n",
       "</style>\n",
       "<table border=\"1\" class=\"dataframe\">\n",
       "  <thead>\n",
       "    <tr style=\"text-align: right;\">\n",
       "      <th></th>\n",
       "      <th>Name</th>\n",
       "      <th>Age</th>\n",
       "      <th>Date of Admission</th>\n",
       "      <th>Doctor</th>\n",
       "      <th>Hospital</th>\n",
       "      <th>Insurance Provider</th>\n",
       "      <th>Billing Amount</th>\n",
       "      <th>Room Number</th>\n",
       "      <th>Discharge Date</th>\n",
       "      <th>Length of Stay</th>\n",
       "      <th>...</th>\n",
       "      <th>Medical Condition_Hypertension</th>\n",
       "      <th>Medical Condition_Obesity</th>\n",
       "      <th>Admission Type_Emergency</th>\n",
       "      <th>Admission Type_Urgent</th>\n",
       "      <th>Test Results_Inconclusive</th>\n",
       "      <th>Test Results_Normal</th>\n",
       "      <th>Medication_Ibuprofen</th>\n",
       "      <th>Medication_Lipitor</th>\n",
       "      <th>Medication_Paracetamol</th>\n",
       "      <th>Medication_Penicillin</th>\n",
       "    </tr>\n",
       "  </thead>\n",
       "  <tbody>\n",
       "    <tr>\n",
       "      <th>0</th>\n",
       "      <td>Bobby JacksOn</td>\n",
       "      <td>30</td>\n",
       "      <td>2024-01-31</td>\n",
       "      <td>Matthew Smith</td>\n",
       "      <td>Sons and Miller</td>\n",
       "      <td>Blue Cross</td>\n",
       "      <td>18856.281306</td>\n",
       "      <td>328</td>\n",
       "      <td>2024-02-02</td>\n",
       "      <td>2</td>\n",
       "      <td>...</td>\n",
       "      <td>False</td>\n",
       "      <td>False</td>\n",
       "      <td>False</td>\n",
       "      <td>True</td>\n",
       "      <td>False</td>\n",
       "      <td>True</td>\n",
       "      <td>False</td>\n",
       "      <td>False</td>\n",
       "      <td>True</td>\n",
       "      <td>False</td>\n",
       "    </tr>\n",
       "    <tr>\n",
       "      <th>1</th>\n",
       "      <td>LesLie TErRy</td>\n",
       "      <td>62</td>\n",
       "      <td>2019-08-20</td>\n",
       "      <td>Samantha Davies</td>\n",
       "      <td>Kim Inc</td>\n",
       "      <td>Medicare</td>\n",
       "      <td>33643.327287</td>\n",
       "      <td>265</td>\n",
       "      <td>2019-08-26</td>\n",
       "      <td>6</td>\n",
       "      <td>...</td>\n",
       "      <td>False</td>\n",
       "      <td>True</td>\n",
       "      <td>True</td>\n",
       "      <td>False</td>\n",
       "      <td>True</td>\n",
       "      <td>False</td>\n",
       "      <td>True</td>\n",
       "      <td>False</td>\n",
       "      <td>False</td>\n",
       "      <td>False</td>\n",
       "    </tr>\n",
       "    <tr>\n",
       "      <th>2</th>\n",
       "      <td>DaNnY sMitH</td>\n",
       "      <td>76</td>\n",
       "      <td>2022-09-22</td>\n",
       "      <td>Tiffany Mitchell</td>\n",
       "      <td>Cook PLC</td>\n",
       "      <td>Aetna</td>\n",
       "      <td>27955.096079</td>\n",
       "      <td>205</td>\n",
       "      <td>2022-10-07</td>\n",
       "      <td>15</td>\n",
       "      <td>...</td>\n",
       "      <td>False</td>\n",
       "      <td>True</td>\n",
       "      <td>True</td>\n",
       "      <td>False</td>\n",
       "      <td>False</td>\n",
       "      <td>True</td>\n",
       "      <td>False</td>\n",
       "      <td>False</td>\n",
       "      <td>False</td>\n",
       "      <td>False</td>\n",
       "    </tr>\n",
       "    <tr>\n",
       "      <th>3</th>\n",
       "      <td>andrEw waTtS</td>\n",
       "      <td>28</td>\n",
       "      <td>2020-11-18</td>\n",
       "      <td>Kevin Wells</td>\n",
       "      <td>Hernandez Rogers and Vang,</td>\n",
       "      <td>Medicare</td>\n",
       "      <td>37909.782410</td>\n",
       "      <td>450</td>\n",
       "      <td>2020-12-18</td>\n",
       "      <td>30</td>\n",
       "      <td>...</td>\n",
       "      <td>False</td>\n",
       "      <td>False</td>\n",
       "      <td>False</td>\n",
       "      <td>False</td>\n",
       "      <td>False</td>\n",
       "      <td>False</td>\n",
       "      <td>True</td>\n",
       "      <td>False</td>\n",
       "      <td>False</td>\n",
       "      <td>False</td>\n",
       "    </tr>\n",
       "    <tr>\n",
       "      <th>4</th>\n",
       "      <td>adrIENNE bEll</td>\n",
       "      <td>43</td>\n",
       "      <td>2022-09-19</td>\n",
       "      <td>Kathleen Hanna</td>\n",
       "      <td>White-White</td>\n",
       "      <td>Aetna</td>\n",
       "      <td>14238.317814</td>\n",
       "      <td>458</td>\n",
       "      <td>2022-10-09</td>\n",
       "      <td>20</td>\n",
       "      <td>...</td>\n",
       "      <td>False</td>\n",
       "      <td>False</td>\n",
       "      <td>False</td>\n",
       "      <td>True</td>\n",
       "      <td>False</td>\n",
       "      <td>False</td>\n",
       "      <td>False</td>\n",
       "      <td>False</td>\n",
       "      <td>False</td>\n",
       "      <td>True</td>\n",
       "    </tr>\n",
       "  </tbody>\n",
       "</table>\n",
       "<p>5 rows × 31 columns</p>\n",
       "</div>"
      ],
      "text/plain": [
       "            Name  Age Date of Admission            Doctor  \\\n",
       "0  Bobby JacksOn   30        2024-01-31     Matthew Smith   \n",
       "1   LesLie TErRy   62        2019-08-20   Samantha Davies   \n",
       "2    DaNnY sMitH   76        2022-09-22  Tiffany Mitchell   \n",
       "3   andrEw waTtS   28        2020-11-18       Kevin Wells   \n",
       "4  adrIENNE bEll   43        2022-09-19    Kathleen Hanna   \n",
       "\n",
       "                     Hospital Insurance Provider  Billing Amount  Room Number  \\\n",
       "0             Sons and Miller         Blue Cross    18856.281306          328   \n",
       "1                     Kim Inc           Medicare    33643.327287          265   \n",
       "2                    Cook PLC              Aetna    27955.096079          205   \n",
       "3  Hernandez Rogers and Vang,           Medicare    37909.782410          450   \n",
       "4                 White-White              Aetna    14238.317814          458   \n",
       "\n",
       "  Discharge Date  Length of Stay  ...  Medical Condition_Hypertension  \\\n",
       "0     2024-02-02               2  ...                           False   \n",
       "1     2019-08-26               6  ...                           False   \n",
       "2     2022-10-07              15  ...                           False   \n",
       "3     2020-12-18              30  ...                           False   \n",
       "4     2022-10-09              20  ...                           False   \n",
       "\n",
       "   Medical Condition_Obesity  Admission Type_Emergency  Admission Type_Urgent  \\\n",
       "0                      False                     False                   True   \n",
       "1                       True                      True                  False   \n",
       "2                       True                      True                  False   \n",
       "3                      False                     False                  False   \n",
       "4                      False                     False                   True   \n",
       "\n",
       "   Test Results_Inconclusive  Test Results_Normal  Medication_Ibuprofen  \\\n",
       "0                      False                 True                 False   \n",
       "1                       True                False                  True   \n",
       "2                      False                 True                 False   \n",
       "3                      False                False                  True   \n",
       "4                      False                False                 False   \n",
       "\n",
       "   Medication_Lipitor  Medication_Paracetamol  Medication_Penicillin  \n",
       "0               False                    True                  False  \n",
       "1               False                   False                  False  \n",
       "2               False                   False                  False  \n",
       "3               False                   False                  False  \n",
       "4               False                   False                   True  \n",
       "\n",
       "[5 rows x 31 columns]"
      ]
     },
     "execution_count": 25,
     "metadata": {},
     "output_type": "execute_result"
    }
   ],
   "source": [
    "# Categorical columns to one-hot encode\n",
    "categorical_cols = [\"Gender\", \"Blood Type\", \"Medical Condition\", \"Admission Type\", \"Test Results\", \"Medication\"]\n",
    "\n",
    "# Apply one-hot encoding\n",
    "data = pd.get_dummies(data, columns=categorical_cols, drop_first=True)  # Drop first column to avoid dummy variable trap\n",
    "\n",
    "# Display updated dataset\n",
    "data.head()"
   ]
  },
  {
   "cell_type": "code",
   "execution_count": 26,
   "id": "19b11dbc",
   "metadata": {
    "execution": {
     "iopub.execute_input": "2025-02-01T08:18:13.781610Z",
     "iopub.status.busy": "2025-02-01T08:18:13.781309Z",
     "iopub.status.idle": "2025-02-01T08:18:13.920150Z",
     "shell.execute_reply": "2025-02-01T08:18:13.919195Z"
    },
    "papermill": {
     "duration": 0.155927,
     "end_time": "2025-02-01T08:18:13.921757",
     "exception": false,
     "start_time": "2025-02-01T08:18:13.765830",
     "status": "completed"
    },
    "tags": []
   },
   "outputs": [
    {
     "data": {
      "text/html": [
       "<div>\n",
       "<style scoped>\n",
       "    .dataframe tbody tr th:only-of-type {\n",
       "        vertical-align: middle;\n",
       "    }\n",
       "\n",
       "    .dataframe tbody tr th {\n",
       "        vertical-align: top;\n",
       "    }\n",
       "\n",
       "    .dataframe thead th {\n",
       "        text-align: right;\n",
       "    }\n",
       "</style>\n",
       "<table border=\"1\" class=\"dataframe\">\n",
       "  <thead>\n",
       "    <tr style=\"text-align: right;\">\n",
       "      <th></th>\n",
       "      <th>Name</th>\n",
       "      <th>Age</th>\n",
       "      <th>Doctor</th>\n",
       "      <th>Hospital</th>\n",
       "      <th>Insurance Provider</th>\n",
       "      <th>Billing Amount</th>\n",
       "      <th>Room Number</th>\n",
       "      <th>Discharge Date</th>\n",
       "      <th>Length of Stay</th>\n",
       "      <th>Gender_Male</th>\n",
       "      <th>...</th>\n",
       "      <th>Admission Type_Urgent</th>\n",
       "      <th>Test Results_Inconclusive</th>\n",
       "      <th>Test Results_Normal</th>\n",
       "      <th>Medication_Ibuprofen</th>\n",
       "      <th>Medication_Lipitor</th>\n",
       "      <th>Medication_Paracetamol</th>\n",
       "      <th>Medication_Penicillin</th>\n",
       "      <th>Day of Week</th>\n",
       "      <th>Month</th>\n",
       "      <th>Weekend</th>\n",
       "    </tr>\n",
       "  </thead>\n",
       "  <tbody>\n",
       "    <tr>\n",
       "      <th>0</th>\n",
       "      <td>Bobby JacksOn</td>\n",
       "      <td>30</td>\n",
       "      <td>Matthew Smith</td>\n",
       "      <td>Sons and Miller</td>\n",
       "      <td>Blue Cross</td>\n",
       "      <td>18856.281306</td>\n",
       "      <td>328</td>\n",
       "      <td>2024-02-02</td>\n",
       "      <td>2</td>\n",
       "      <td>True</td>\n",
       "      <td>...</td>\n",
       "      <td>True</td>\n",
       "      <td>False</td>\n",
       "      <td>True</td>\n",
       "      <td>False</td>\n",
       "      <td>False</td>\n",
       "      <td>True</td>\n",
       "      <td>False</td>\n",
       "      <td>2</td>\n",
       "      <td>1</td>\n",
       "      <td>0</td>\n",
       "    </tr>\n",
       "    <tr>\n",
       "      <th>1</th>\n",
       "      <td>LesLie TErRy</td>\n",
       "      <td>62</td>\n",
       "      <td>Samantha Davies</td>\n",
       "      <td>Kim Inc</td>\n",
       "      <td>Medicare</td>\n",
       "      <td>33643.327287</td>\n",
       "      <td>265</td>\n",
       "      <td>2019-08-26</td>\n",
       "      <td>6</td>\n",
       "      <td>True</td>\n",
       "      <td>...</td>\n",
       "      <td>False</td>\n",
       "      <td>True</td>\n",
       "      <td>False</td>\n",
       "      <td>True</td>\n",
       "      <td>False</td>\n",
       "      <td>False</td>\n",
       "      <td>False</td>\n",
       "      <td>1</td>\n",
       "      <td>8</td>\n",
       "      <td>0</td>\n",
       "    </tr>\n",
       "    <tr>\n",
       "      <th>2</th>\n",
       "      <td>DaNnY sMitH</td>\n",
       "      <td>76</td>\n",
       "      <td>Tiffany Mitchell</td>\n",
       "      <td>Cook PLC</td>\n",
       "      <td>Aetna</td>\n",
       "      <td>27955.096079</td>\n",
       "      <td>205</td>\n",
       "      <td>2022-10-07</td>\n",
       "      <td>15</td>\n",
       "      <td>False</td>\n",
       "      <td>...</td>\n",
       "      <td>False</td>\n",
       "      <td>False</td>\n",
       "      <td>True</td>\n",
       "      <td>False</td>\n",
       "      <td>False</td>\n",
       "      <td>False</td>\n",
       "      <td>False</td>\n",
       "      <td>3</td>\n",
       "      <td>9</td>\n",
       "      <td>0</td>\n",
       "    </tr>\n",
       "    <tr>\n",
       "      <th>3</th>\n",
       "      <td>andrEw waTtS</td>\n",
       "      <td>28</td>\n",
       "      <td>Kevin Wells</td>\n",
       "      <td>Hernandez Rogers and Vang,</td>\n",
       "      <td>Medicare</td>\n",
       "      <td>37909.782410</td>\n",
       "      <td>450</td>\n",
       "      <td>2020-12-18</td>\n",
       "      <td>30</td>\n",
       "      <td>False</td>\n",
       "      <td>...</td>\n",
       "      <td>False</td>\n",
       "      <td>False</td>\n",
       "      <td>False</td>\n",
       "      <td>True</td>\n",
       "      <td>False</td>\n",
       "      <td>False</td>\n",
       "      <td>False</td>\n",
       "      <td>2</td>\n",
       "      <td>11</td>\n",
       "      <td>0</td>\n",
       "    </tr>\n",
       "    <tr>\n",
       "      <th>4</th>\n",
       "      <td>adrIENNE bEll</td>\n",
       "      <td>43</td>\n",
       "      <td>Kathleen Hanna</td>\n",
       "      <td>White-White</td>\n",
       "      <td>Aetna</td>\n",
       "      <td>14238.317814</td>\n",
       "      <td>458</td>\n",
       "      <td>2022-10-09</td>\n",
       "      <td>20</td>\n",
       "      <td>False</td>\n",
       "      <td>...</td>\n",
       "      <td>True</td>\n",
       "      <td>False</td>\n",
       "      <td>False</td>\n",
       "      <td>False</td>\n",
       "      <td>False</td>\n",
       "      <td>False</td>\n",
       "      <td>True</td>\n",
       "      <td>0</td>\n",
       "      <td>9</td>\n",
       "      <td>0</td>\n",
       "    </tr>\n",
       "  </tbody>\n",
       "</table>\n",
       "<p>5 rows × 33 columns</p>\n",
       "</div>"
      ],
      "text/plain": [
       "            Name  Age            Doctor                    Hospital  \\\n",
       "0  Bobby JacksOn   30     Matthew Smith             Sons and Miller   \n",
       "1   LesLie TErRy   62   Samantha Davies                     Kim Inc   \n",
       "2    DaNnY sMitH   76  Tiffany Mitchell                    Cook PLC   \n",
       "3   andrEw waTtS   28       Kevin Wells  Hernandez Rogers and Vang,   \n",
       "4  adrIENNE bEll   43    Kathleen Hanna                 White-White   \n",
       "\n",
       "  Insurance Provider  Billing Amount  Room Number Discharge Date  \\\n",
       "0         Blue Cross    18856.281306          328     2024-02-02   \n",
       "1           Medicare    33643.327287          265     2019-08-26   \n",
       "2              Aetna    27955.096079          205     2022-10-07   \n",
       "3           Medicare    37909.782410          450     2020-12-18   \n",
       "4              Aetna    14238.317814          458     2022-10-09   \n",
       "\n",
       "   Length of Stay  Gender_Male  ...  Admission Type_Urgent  \\\n",
       "0               2         True  ...                   True   \n",
       "1               6         True  ...                  False   \n",
       "2              15        False  ...                  False   \n",
       "3              30        False  ...                  False   \n",
       "4              20        False  ...                   True   \n",
       "\n",
       "   Test Results_Inconclusive  Test Results_Normal  Medication_Ibuprofen  \\\n",
       "0                      False                 True                 False   \n",
       "1                       True                False                  True   \n",
       "2                      False                 True                 False   \n",
       "3                      False                False                  True   \n",
       "4                      False                False                 False   \n",
       "\n",
       "   Medication_Lipitor  Medication_Paracetamol  Medication_Penicillin  \\\n",
       "0               False                    True                  False   \n",
       "1               False                   False                  False   \n",
       "2               False                   False                  False   \n",
       "3               False                   False                  False   \n",
       "4               False                   False                   True   \n",
       "\n",
       "   Day of Week  Month  Weekend  \n",
       "0            2      1        0  \n",
       "1            1      8        0  \n",
       "2            3      9        0  \n",
       "3            2     11        0  \n",
       "4            0      9        0  \n",
       "\n",
       "[5 rows x 33 columns]"
      ]
     },
     "execution_count": 26,
     "metadata": {},
     "output_type": "execute_result"
    }
   ],
   "source": [
    "# Convert 'Date of Admission' to datetime (if not already done)\n",
    "data[\"Date of Admission\"] = pd.to_datetime(data[\"Date of Admission\"])\n",
    "\n",
    "# Create new time-based features\n",
    "data[\"Day of Week\"] = data[\"Date of Admission\"].dt.dayofweek  # Monday=0, Sunday=6\n",
    "data[\"Month\"] = data[\"Date of Admission\"].dt.month  # Month as number (1-12)\n",
    "data[\"Weekend\"] = data[\"Day of Week\"].apply(lambda x: 1 if x >= 5 else 0)  # 1 if Saturday/Sunday\n",
    "\n",
    "# Drop original date column (not useful for LSTM directly)\n",
    "data.drop(columns=[\"Date of Admission\"], inplace=True)\n",
    "\n",
    "# Display the updated dataframe\n",
    "data.head()\n"
   ]
  },
  {
   "cell_type": "code",
   "execution_count": 27,
   "id": "025a7836",
   "metadata": {
    "execution": {
     "iopub.execute_input": "2025-02-01T08:18:13.952639Z",
     "iopub.status.busy": "2025-02-01T08:18:13.952394Z",
     "iopub.status.idle": "2025-02-01T08:18:14.082745Z",
     "shell.execute_reply": "2025-02-01T08:18:14.081755Z"
    },
    "papermill": {
     "duration": 0.147485,
     "end_time": "2025-02-01T08:18:14.084312",
     "exception": false,
     "start_time": "2025-02-01T08:18:13.936827",
     "status": "completed"
    },
    "tags": []
   },
   "outputs": [],
   "source": [
    "from sklearn.preprocessing import MinMaxScaler\n",
    "\n",
    "scaler = MinMaxScaler()\n",
    "data[[\"Age\", \"Billing Amount\", \"Room Number\", \"Length of Stay\"]] = scaler.fit_transform(\n",
    "    data[[\"Age\", \"Billing Amount\", \"Room Number\", \"Length of Stay\"]]\n",
    ")\n"
   ]
  },
  {
   "cell_type": "markdown",
   "id": "82eda06f",
   "metadata": {
    "papermill": {
     "duration": 0.014066,
     "end_time": "2025-02-01T08:18:14.114654",
     "exception": false,
     "start_time": "2025-02-01T08:18:14.100588",
     "status": "completed"
    },
    "tags": []
   },
   "source": [
    "### Above Feature Engineering Completed ✅\n",
    "\n",
    "Encoded Categorical Variables (Gender, Blood Type, Medical Condition, etc.) using Label Encoding.\n",
    "\n",
    "Scaled Numerical Features (Age, Billing Amount, Room Number, Length of Stay) using StandardScaler.\n",
    "\n",
    "\n"
   ]
  },
  {
   "cell_type": "markdown",
   "id": "18bf1ba0",
   "metadata": {
    "papermill": {
     "duration": 0.012868,
     "end_time": "2025-02-01T08:18:14.140807",
     "exception": false,
     "start_time": "2025-02-01T08:18:14.127939",
     "status": "completed"
    },
    "tags": []
   },
   "source": [
    "### Next Steps\n",
    "\n",
    "\n",
    "✅ Model Selection – Build an LSTM/RNN-based model for predicting Length of Stay or Billing Amount.\n",
    "\n",
    "I'll now create some visualizations to understand the data better. "
   ]
  },
  {
   "cell_type": "markdown",
   "id": "4f7bba79",
   "metadata": {
    "papermill": {
     "duration": 0.012854,
     "end_time": "2025-02-01T08:18:14.166493",
     "exception": false,
     "start_time": "2025-02-01T08:18:14.153639",
     "status": "completed"
    },
    "tags": []
   },
   "source": [
    "# 1️⃣ Problem Definition\n",
    "We can use LSTM (Long Short-Term Memory) and RNN (Recurrent Neural Networks) to predict:\n",
    "\n",
    "✔ Length of Stay – Based on patient attributes & past hospital records.\n",
    "\n",
    "✔ Billing Amount – Forecast hospital charges using past trends.\n",
    "\n",
    "\n",
    "### Model Options\n",
    "#### 📌 Traditional Models (Baselines for Comparison)\n",
    "\n",
    "Linear Regression – Simple and interpretable.\n",
    "\n",
    "Random Forest/XGBoost – Works well with tabular data.\n",
    "\n",
    "ARIMA/SARIMA – Common time series forecasting methods.\n",
    "\n",
    "#### 📌 Deep Learning Models\n",
    "\n",
    "Vanilla RNN – Captures sequential patterns but struggles with long-term dependencies.\n",
    "\n",
    "LSTM (Long Short-Term Memory) – Good for long-term dependencies in time series.\n",
    "\n",
    "Bidirectional LSTM – Considers both past & future trends for better accuracy.\n",
    "\n",
    "GRU (Gated Recurrent Unit) – Lighter than LSTM but still powerful for sequence prediction.\n",
    "\n",
    "### Best Model Choice \n",
    "\n",
    "\n",
    "Since Our dataset has structured tabular data and time dependencies:\n",
    "\n",
    "✔ LSTM or GRU – Best suited for predicting Length of Stay or Billing Amount.\n",
    "\n",
    "✔ Compare with XGBoost – As a strong non-deep learning baseline."
   ]
  },
  {
   "cell_type": "markdown",
   "id": "a8fcc0f8",
   "metadata": {
    "papermill": {
     "duration": 0.01263,
     "end_time": "2025-02-01T08:18:14.191954",
     "exception": false,
     "start_time": "2025-02-01T08:18:14.179324",
     "status": "completed"
    },
    "tags": []
   },
   "source": [
    "2️⃣ Data Preparation for LSTM – Convert time-series data into sequences.\n",
    "\n",
    "3️⃣ Build and Train LSTM Model – Predict Length of Stay.\n",
    "\n",
    "4️⃣ Evaluate Model Performance – Compare LSTM with traditional models.\n",
    "\n",
    "5️⃣ Predictions and Insights – Visualize model predictions."
   ]
  },
  {
   "cell_type": "markdown",
   "id": "d1736d45",
   "metadata": {
    "papermill": {
     "duration": 0.012379,
     "end_time": "2025-02-01T08:18:14.217737",
     "exception": false,
     "start_time": "2025-02-01T08:18:14.205358",
     "status": "completed"
    },
    "tags": []
   },
   "source": [
    "To use LSTM for predicting Length of Stay, we need to:\n",
    "\n",
    "Convert the dataset into sequential time-series data.\n",
    "\n",
    "Select relevant numerical features.\n",
    "\n",
    "Reshape the data for LSTM input format."
   ]
  },
  {
   "cell_type": "code",
   "execution_count": 28,
   "id": "25940d0f",
   "metadata": {
    "execution": {
     "iopub.execute_input": "2025-02-01T08:18:14.244733Z",
     "iopub.status.busy": "2025-02-01T08:18:14.244458Z",
     "iopub.status.idle": "2025-02-01T08:18:25.260998Z",
     "shell.execute_reply": "2025-02-01T08:18:25.260283Z"
    },
    "papermill": {
     "duration": 11.032025,
     "end_time": "2025-02-01T08:18:25.262458",
     "exception": false,
     "start_time": "2025-02-01T08:18:14.230433",
     "status": "completed"
    },
    "tags": []
   },
   "outputs": [],
   "source": [
    "import numpy as np\n",
    "from sklearn.model_selection import train_test_split\n",
    "from tensorflow.keras.models import Sequential\n",
    "from tensorflow.keras.layers import LSTM, Dense,Bidirectional\n",
    "from tensorflow.keras.callbacks import EarlyStopping\n",
    "\n",
    "# Select features & target\n",
    "features = [\"Age\", \"Billing Amount\", \"Room Number\"]\n",
    "target = \"Length of Stay\"\n",
    "\n",
    "# Convert data into NumPy arrays\n",
    "X = data[features].values\n",
    "y = data[target].values\n",
    "\n",
    "# Reshape data for LSTM (samples, time steps, features)\n",
    "X = X.reshape((X.shape[0], 1, X.shape[1]))\n",
    "\n",
    "# Split data into training and testing sets\n",
    "X_train, X_test, y_train, y_test = train_test_split(X, y, test_size=0.2, random_state=42)\n"
   ]
  },
  {
   "cell_type": "markdown",
   "id": "6e415be3",
   "metadata": {
    "papermill": {
     "duration": 0.015055,
     "end_time": "2025-02-01T08:18:25.290639",
     "exception": false,
     "start_time": "2025-02-01T08:18:25.275584",
     "status": "completed"
    },
    "tags": []
   },
   "source": [
    "##### Build & Train Bidirectional LSTM Model\n",
    "\n",
    "Now, we’ll define an Bidirectional LSTM model to predict Length of Stay."
   ]
  },
  {
   "cell_type": "code",
   "execution_count": 29,
   "id": "7c4fab0d",
   "metadata": {
    "execution": {
     "iopub.execute_input": "2025-02-01T08:18:25.317039Z",
     "iopub.status.busy": "2025-02-01T08:18:25.316519Z",
     "iopub.status.idle": "2025-02-01T08:19:00.036714Z",
     "shell.execute_reply": "2025-02-01T08:19:00.036024Z"
    },
    "papermill": {
     "duration": 34.734858,
     "end_time": "2025-02-01T08:19:00.037936",
     "exception": false,
     "start_time": "2025-02-01T08:18:25.303078",
     "status": "completed"
    },
    "tags": []
   },
   "outputs": [
    {
     "name": "stderr",
     "output_type": "stream",
     "text": [
      "/usr/local/lib/python3.10/dist-packages/keras/src/layers/rnn/bidirectional.py:107: UserWarning: Do not pass an `input_shape`/`input_dim` argument to a layer. When using Sequential models, prefer using an `Input(shape)` object as the first layer in the model instead.\n",
      "  super().__init__(**kwargs)\n"
     ]
    },
    {
     "name": "stdout",
     "output_type": "stream",
     "text": [
      "Epoch 1/100\n",
      "\u001b[1m694/694\u001b[0m \u001b[32m━━━━━━━━━━━━━━━━━━━━\u001b[0m\u001b[37m\u001b[0m \u001b[1m9s\u001b[0m 6ms/step - loss: 0.1317 - val_loss: 0.0890\n",
      "Epoch 2/100\n",
      "\u001b[1m694/694\u001b[0m \u001b[32m━━━━━━━━━━━━━━━━━━━━\u001b[0m\u001b[37m\u001b[0m \u001b[1m1s\u001b[0m 2ms/step - loss: 0.0896 - val_loss: 0.0895\n",
      "Epoch 3/100\n",
      "\u001b[1m694/694\u001b[0m \u001b[32m━━━━━━━━━━━━━━━━━━━━\u001b[0m\u001b[37m\u001b[0m \u001b[1m1s\u001b[0m 2ms/step - loss: 0.0894 - val_loss: 0.0889\n",
      "Epoch 4/100\n",
      "\u001b[1m694/694\u001b[0m \u001b[32m━━━━━━━━━━━━━━━━━━━━\u001b[0m\u001b[37m\u001b[0m \u001b[1m1s\u001b[0m 2ms/step - loss: 0.0893 - val_loss: 0.0887\n",
      "Epoch 5/100\n",
      "\u001b[1m694/694\u001b[0m \u001b[32m━━━━━━━━━━━━━━━━━━━━\u001b[0m\u001b[37m\u001b[0m \u001b[1m1s\u001b[0m 2ms/step - loss: 0.0897 - val_loss: 0.0885\n",
      "Epoch 6/100\n",
      "\u001b[1m694/694\u001b[0m \u001b[32m━━━━━━━━━━━━━━━━━━━━\u001b[0m\u001b[37m\u001b[0m \u001b[1m1s\u001b[0m 2ms/step - loss: 0.0891 - val_loss: 0.0889\n",
      "Epoch 7/100\n",
      "\u001b[1m694/694\u001b[0m \u001b[32m━━━━━━━━━━━━━━━━━━━━\u001b[0m\u001b[37m\u001b[0m \u001b[1m1s\u001b[0m 2ms/step - loss: 0.0895 - val_loss: 0.0885\n",
      "Epoch 8/100\n",
      "\u001b[1m694/694\u001b[0m \u001b[32m━━━━━━━━━━━━━━━━━━━━\u001b[0m\u001b[37m\u001b[0m \u001b[1m1s\u001b[0m 2ms/step - loss: 0.0896 - val_loss: 0.0889\n",
      "Epoch 9/100\n",
      "\u001b[1m694/694\u001b[0m \u001b[32m━━━━━━━━━━━━━━━━━━━━\u001b[0m\u001b[37m\u001b[0m \u001b[1m1s\u001b[0m 2ms/step - loss: 0.0896 - val_loss: 0.0886\n",
      "Epoch 10/100\n",
      "\u001b[1m694/694\u001b[0m \u001b[32m━━━━━━━━━━━━━━━━━━━━\u001b[0m\u001b[37m\u001b[0m \u001b[1m1s\u001b[0m 2ms/step - loss: 0.0895 - val_loss: 0.0885\n",
      "Epoch 11/100\n",
      "\u001b[1m694/694\u001b[0m \u001b[32m━━━━━━━━━━━━━━━━━━━━\u001b[0m\u001b[37m\u001b[0m \u001b[1m1s\u001b[0m 2ms/step - loss: 0.0894 - val_loss: 0.0885\n",
      "Epoch 12/100\n",
      "\u001b[1m694/694\u001b[0m \u001b[32m━━━━━━━━━━━━━━━━━━━━\u001b[0m\u001b[37m\u001b[0m \u001b[1m1s\u001b[0m 2ms/step - loss: 0.0897 - val_loss: 0.0886\n",
      "Epoch 13/100\n",
      "\u001b[1m694/694\u001b[0m \u001b[32m━━━━━━━━━━━━━━━━━━━━\u001b[0m\u001b[37m\u001b[0m \u001b[1m1s\u001b[0m 2ms/step - loss: 0.0898 - val_loss: 0.0886\n",
      "Epoch 14/100\n",
      "\u001b[1m694/694\u001b[0m \u001b[32m━━━━━━━━━━━━━━━━━━━━\u001b[0m\u001b[37m\u001b[0m \u001b[1m1s\u001b[0m 2ms/step - loss: 0.0892 - val_loss: 0.0887\n",
      "Epoch 15/100\n",
      "\u001b[1m694/694\u001b[0m \u001b[32m━━━━━━━━━━━━━━━━━━━━\u001b[0m\u001b[37m\u001b[0m \u001b[1m1s\u001b[0m 2ms/step - loss: 0.0897 - val_loss: 0.0885\n",
      "Epoch 16/100\n",
      "\u001b[1m694/694\u001b[0m \u001b[32m━━━━━━━━━━━━━━━━━━━━\u001b[0m\u001b[37m\u001b[0m \u001b[1m1s\u001b[0m 2ms/step - loss: 0.0899 - val_loss: 0.0885\n",
      "Epoch 17/100\n",
      "\u001b[1m694/694\u001b[0m \u001b[32m━━━━━━━━━━━━━━━━━━━━\u001b[0m\u001b[37m\u001b[0m \u001b[1m1s\u001b[0m 2ms/step - loss: 0.0894 - val_loss: 0.0886\n",
      "Epoch 18/100\n",
      "\u001b[1m694/694\u001b[0m \u001b[32m━━━━━━━━━━━━━━━━━━━━\u001b[0m\u001b[37m\u001b[0m \u001b[1m1s\u001b[0m 2ms/step - loss: 0.0898 - val_loss: 0.0887\n",
      "Epoch 19/100\n",
      "\u001b[1m694/694\u001b[0m \u001b[32m━━━━━━━━━━━━━━━━━━━━\u001b[0m\u001b[37m\u001b[0m \u001b[1m1s\u001b[0m 2ms/step - loss: 0.0902 - val_loss: 0.0887\n",
      "Epoch 20/100\n",
      "\u001b[1m694/694\u001b[0m \u001b[32m━━━━━━━━━━━━━━━━━━━━\u001b[0m\u001b[37m\u001b[0m \u001b[1m1s\u001b[0m 2ms/step - loss: 0.0891 - val_loss: 0.0885\n",
      "Epoch 21/100\n",
      "\u001b[1m694/694\u001b[0m \u001b[32m━━━━━━━━━━━━━━━━━━━━\u001b[0m\u001b[37m\u001b[0m \u001b[1m1s\u001b[0m 2ms/step - loss: 0.0900 - val_loss: 0.0885\n"
     ]
    }
   ],
   "source": [
    "# Define a deeper LSTM model\n",
    "model = Sequential([\n",
    "    Bidirectional(LSTM(100, activation=\"relu\", return_sequences=True), input_shape=(X_train.shape[1], X_train.shape[2])),\n",
    "    LSTM(50, activation=\"relu\"),\n",
    "    Dense(1)\n",
    "])\n",
    "\n",
    "model.compile(optimizer=\"adam\", loss=\"mse\")\n",
    "early_stop = EarlyStopping(monitor=\"val_loss\", patience=10, restore_best_weights=True)\n",
    "history=model.fit(X_train, y_train, epochs=100, batch_size=64, validation_data=(X_test, y_test), callbacks=[early_stop])\n",
    "\n",
    "\n",
    "\n",
    "\n"
   ]
  },
  {
   "cell_type": "markdown",
   "id": "d5604485",
   "metadata": {
    "papermill": {
     "duration": 0.032072,
     "end_time": "2025-02-01T08:19:00.104459",
     "exception": false,
     "start_time": "2025-02-01T08:19:00.072387",
     "status": "completed"
    },
    "tags": []
   },
   "source": [
    " #### Evaluate Model Performance\n",
    " \n",
    "Plot training vs. validation loss to see how well the model is learning.\n",
    "\n"
   ]
  },
  {
   "cell_type": "code",
   "execution_count": 30,
   "id": "a14c997b",
   "metadata": {
    "execution": {
     "iopub.execute_input": "2025-02-01T08:19:00.171128Z",
     "iopub.status.busy": "2025-02-01T08:19:00.170858Z",
     "iopub.status.idle": "2025-02-01T08:19:00.447280Z",
     "shell.execute_reply": "2025-02-01T08:19:00.446486Z"
    },
    "papermill": {
     "duration": 0.311192,
     "end_time": "2025-02-01T08:19:00.448657",
     "exception": false,
     "start_time": "2025-02-01T08:19:00.137465",
     "status": "completed"
    },
    "tags": []
   },
   "outputs": [
    {
     "data": {
      "image/png": "[encoded data removed]",
      "text/plain": [
       "<Figure size 640x480 with 1 Axes>"
      ]
     },
     "metadata": {},
     "output_type": "display_data"
    }
   ],
   "source": [
    "plt.plot(history.history[\"loss\"], label=\"Train Loss\")\n",
    "plt.plot(history.history[\"val_loss\"], label=\"Validation Loss\")\n",
    "plt.xlabel(\"Epochs\")\n",
    "plt.ylabel(\"Loss (MSE)\")\n",
    "plt.title(\"LSTM Model Training Loss\")\n",
    "plt.legend()\n",
    "plt.show()\n"
   ]
  },
  {
   "cell_type": "markdown",
   "id": "2e1184cb",
   "metadata": {
    "papermill": {
     "duration": 0.034138,
     "end_time": "2025-02-01T08:19:00.517970",
     "exception": false,
     "start_time": "2025-02-01T08:19:00.483832",
     "status": "completed"
    },
    "tags": []
   },
   "source": [
    "### Make Predictions & Visualize\n",
    "\n",
    "We’ll now predict Length of Stay for the test data and compare with actual values."
   ]
  },
  {
   "cell_type": "code",
   "execution_count": 31,
   "id": "2cff5fc6",
   "metadata": {
    "execution": {
     "iopub.execute_input": "2025-02-01T08:19:00.587704Z",
     "iopub.status.busy": "2025-02-01T08:19:00.587465Z",
     "iopub.status.idle": "2025-02-01T08:19:03.042096Z",
     "shell.execute_reply": "2025-02-01T08:19:03.041175Z"
    },
    "papermill": {
     "duration": 2.491227,
     "end_time": "2025-02-01T08:19:03.044324",
     "exception": false,
     "start_time": "2025-02-01T08:19:00.553097",
     "status": "completed"
    },
    "tags": []
   },
   "outputs": [
    {
     "name": "stdout",
     "output_type": "stream",
     "text": [
      "\u001b[1m347/347\u001b[0m \u001b[32m━━━━━━━━━━━━━━━━━━━━\u001b[0m\u001b[37m\u001b[0m \u001b[1m2s\u001b[0m 3ms/step\n"
     ]
    },
    {
     "data": {
      "image/png": "[encoded data removed]",
      "text/plain": [
       "<Figure size 800x500 with 1 Axes>"
      ]
     },
     "metadata": {},
     "output_type": "display_data"
    }
   ],
   "source": [
    "# Make predictions\n",
    "y_pred = model.predict(X_test)\n",
    "\n",
    "# Visualize predictions vs. actual values\n",
    "plt.figure(figsize=(8, 5))\n",
    "plt.scatter(y_test, y_pred, alpha=0.5, color=\"blue\")\n",
    "plt.xlabel(\"Actual Length of Stay\")\n",
    "plt.ylabel(\"Predicted Length of Stay\")\n",
    "plt.title(\"LSTM Predictions vs Actual\")\n",
    "plt.show()\n"
   ]
  }
 ],
 "metadata": {
  "kaggle": {
   "accelerator": "nvidiaTeslaT4",
   "dataSources": [
    {
     "datasetId": 3934836,
     "sourceId": 8356547,
     "sourceType": "datasetVersion"
    }
   ],
   "dockerImageVersionId": 30839,
   "isGpuEnabled": true,
   "isInternetEnabled": true,
   "language": "python",
   "sourceType": "notebook"
  },
  "kernelspec": {
   "display_name": "Python 3",
   "language": "python",
   "name": "python3"
  },
  "language_info": {
   "codemirror_mode": {
    "name": "ipython",
    "version": 3
   },
   "file_extension": ".py",
   "mimetype": "text/x-python",
   "name": "python",
   "nbconvert_exporter": "python",
   "pygments_lexer": "ipython3",
   "version": "3.10.12"
  },
  "papermill": {
   "default_parameters": {},
   "duration": 59.726472,
   "end_time": "2025-02-01T08:19:05.872023",
   "environment_variables": {},
   "exception": null,
   "input_path": "__notebook__.ipynb",
   "output_path": "__notebook__.ipynb",
   "parameters": {},
   "start_time": "2025-02-01T08:18:06.145551",
   "version": "2.6.0"
  }
 },
 "nbformat": 4,
 "nbformat_minor": 5
}
