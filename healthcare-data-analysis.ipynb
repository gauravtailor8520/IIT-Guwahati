{
 "cells": [
  {
   "cell_type": "code",
   "execution_count": null,
   "id": "069f7926",
   "metadata": {
    "execution": {
     "iopub.execute_input": "2025-02-19T14:36:07.402070Z",
     "iopub.status.busy": "2025-02-19T14:36:07.401531Z",
     "iopub.status.idle": "2025-02-19T14:36:07.849425Z",
     "shell.execute_reply": "2025-02-19T14:36:07.848118Z"
    },
    "papermill": {
     "duration": 0.457671,
     "end_time": "2025-02-19T14:36:07.851650",
     "exception": false,
     "start_time": "2025-02-19T14:36:07.393979",
     "status": "completed"
    },
    "tags": []
   },
   "outputs": [
    {
     "data": {
      "text/html": [
       "<div>\n",
       "<style scoped>\n",
       "    .dataframe tbody tr th:only-of-type {\n",
       "        vertical-align: middle;\n",
       "    }\n",
       "\n",
       "    .dataframe tbody tr th {\n",
       "        vertical-align: top;\n",
       "    }\n",
       "\n",
       "    .dataframe thead th {\n",
       "        text-align: right;\n",
       "    }\n",
       "</style>\n",
       "<table border=\"1\" class=\"dataframe\">\n",
       "  <thead>\n",
       "    <tr style=\"text-align: right;\">\n",
       "      <th></th>\n",
       "      <th>Name</th>\n",
       "      <th>Age</th>\n",
       "      <th>Gender</th>\n",
       "      <th>Blood Type</th>\n",
       "      <th>Medical Condition</th>\n",
       "      <th>Date of Admission</th>\n",
       "      <th>Doctor</th>\n",
       "      <th>Hospital</th>\n",
       "      <th>Insurance Provider</th>\n",
       "      <th>Billing Amount</th>\n",
       "      <th>Room Number</th>\n",
       "      <th>Admission Type</th>\n",
       "      <th>Discharge Date</th>\n",
       "      <th>Medication</th>\n",
       "      <th>Test Results</th>\n",
       "    </tr>\n",
       "  </thead>\n",
       "  <tbody>\n",
       "    <tr>\n",
       "      <th>0</th>\n",
       "      <td>Bobby JacksOn</td>\n",
       "      <td>30</td>\n",
       "      <td>Male</td>\n",
       "      <td>B-</td>\n",
       "      <td>Cancer</td>\n",
       "      <td>2024-01-31</td>\n",
       "      <td>Matthew Smith</td>\n",
       "      <td>Sons and Miller</td>\n",
       "      <td>Blue Cross</td>\n",
       "      <td>18856.281306</td>\n",
       "      <td>328</td>\n",
       "      <td>Urgent</td>\n",
       "      <td>2024-02-02</td>\n",
       "      <td>Paracetamol</td>\n",
       "      <td>Normal</td>\n",
       "    </tr>\n",
       "    <tr>\n",
       "      <th>1</th>\n",
       "      <td>LesLie TErRy</td>\n",
       "      <td>62</td>\n",
       "      <td>Male</td>\n",
       "      <td>A+</td>\n",
       "      <td>Obesity</td>\n",
       "      <td>2019-08-20</td>\n",
       "      <td>Samantha Davies</td>\n",
       "      <td>Kim Inc</td>\n",
       "      <td>Medicare</td>\n",
       "      <td>33643.327287</td>\n",
       "      <td>265</td>\n",
       "      <td>Emergency</td>\n",
       "      <td>2019-08-26</td>\n",
       "      <td>Ibuprofen</td>\n",
       "      <td>Inconclusive</td>\n",
       "    </tr>\n",
       "    <tr>\n",
       "      <th>2</th>\n",
       "      <td>DaNnY sMitH</td>\n",
       "      <td>76</td>\n",
       "      <td>Female</td>\n",
       "      <td>A-</td>\n",
       "      <td>Obesity</td>\n",
       "      <td>2022-09-22</td>\n",
       "      <td>Tiffany Mitchell</td>\n",
       "      <td>Cook PLC</td>\n",
       "      <td>Aetna</td>\n",
       "      <td>27955.096079</td>\n",
       "      <td>205</td>\n",
       "      <td>Emergency</td>\n",
       "      <td>2022-10-07</td>\n",
       "      <td>Aspirin</td>\n",
       "      <td>Normal</td>\n",
       "    </tr>\n",
       "    <tr>\n",
       "      <th>3</th>\n",
       "      <td>andrEw waTtS</td>\n",
       "      <td>28</td>\n",
       "      <td>Female</td>\n",
       "      <td>O+</td>\n",
       "      <td>Diabetes</td>\n",
       "      <td>2020-11-18</td>\n",
       "      <td>Kevin Wells</td>\n",
       "      <td>Hernandez Rogers and Vang,</td>\n",
       "      <td>Medicare</td>\n",
       "      <td>37909.782410</td>\n",
       "      <td>450</td>\n",
       "      <td>Elective</td>\n",
       "      <td>2020-12-18</td>\n",
       "      <td>Ibuprofen</td>\n",
       "      <td>Abnormal</td>\n",
       "    </tr>\n",
       "    <tr>\n",
       "      <th>4</th>\n",
       "      <td>adrIENNE bEll</td>\n",
       "      <td>43</td>\n",
       "      <td>Female</td>\n",
       "      <td>AB+</td>\n",
       "      <td>Cancer</td>\n",
       "      <td>2022-09-19</td>\n",
       "      <td>Kathleen Hanna</td>\n",
       "      <td>White-White</td>\n",
       "      <td>Aetna</td>\n",
       "      <td>14238.317814</td>\n",
       "      <td>458</td>\n",
       "      <td>Urgent</td>\n",
       "      <td>2022-10-09</td>\n",
       "      <td>Penicillin</td>\n",
       "      <td>Abnormal</td>\n",
       "    </tr>\n",
       "    <tr>\n",
       "      <th>5</th>\n",
       "      <td>EMILY JOHNSOn</td>\n",
       "      <td>36</td>\n",
       "      <td>Male</td>\n",
       "      <td>A+</td>\n",
       "      <td>Asthma</td>\n",
       "      <td>2023-12-20</td>\n",
       "      <td>Taylor Newton</td>\n",
       "      <td>Nunez-Humphrey</td>\n",
       "      <td>UnitedHealthcare</td>\n",
       "      <td>48145.110951</td>\n",
       "      <td>389</td>\n",
       "      <td>Urgent</td>\n",
       "      <td>2023-12-24</td>\n",
       "      <td>Ibuprofen</td>\n",
       "      <td>Normal</td>\n",
       "    </tr>\n",
       "    <tr>\n",
       "      <th>6</th>\n",
       "      <td>edwArD EDWaRDs</td>\n",
       "      <td>21</td>\n",
       "      <td>Female</td>\n",
       "      <td>AB-</td>\n",
       "      <td>Diabetes</td>\n",
       "      <td>2020-11-03</td>\n",
       "      <td>Kelly Olson</td>\n",
       "      <td>Group Middleton</td>\n",
       "      <td>Medicare</td>\n",
       "      <td>19580.872345</td>\n",
       "      <td>389</td>\n",
       "      <td>Emergency</td>\n",
       "      <td>2020-11-15</td>\n",
       "      <td>Paracetamol</td>\n",
       "      <td>Inconclusive</td>\n",
       "    </tr>\n",
       "    <tr>\n",
       "      <th>7</th>\n",
       "      <td>CHrisTInA MARtinez</td>\n",
       "      <td>20</td>\n",
       "      <td>Female</td>\n",
       "      <td>A+</td>\n",
       "      <td>Cancer</td>\n",
       "      <td>2021-12-28</td>\n",
       "      <td>Suzanne Thomas</td>\n",
       "      <td>Powell Robinson and Valdez,</td>\n",
       "      <td>Cigna</td>\n",
       "      <td>45820.462722</td>\n",
       "      <td>277</td>\n",
       "      <td>Emergency</td>\n",
       "      <td>2022-01-07</td>\n",
       "      <td>Paracetamol</td>\n",
       "      <td>Inconclusive</td>\n",
       "    </tr>\n",
       "    <tr>\n",
       "      <th>8</th>\n",
       "      <td>JASmINe aGuIlaR</td>\n",
       "      <td>82</td>\n",
       "      <td>Male</td>\n",
       "      <td>AB+</td>\n",
       "      <td>Asthma</td>\n",
       "      <td>2020-07-01</td>\n",
       "      <td>Daniel Ferguson</td>\n",
       "      <td>Sons Rich and</td>\n",
       "      <td>Cigna</td>\n",
       "      <td>50119.222792</td>\n",
       "      <td>316</td>\n",
       "      <td>Elective</td>\n",
       "      <td>2020-07-14</td>\n",
       "      <td>Aspirin</td>\n",
       "      <td>Abnormal</td>\n",
       "    </tr>\n",
       "    <tr>\n",
       "      <th>9</th>\n",
       "      <td>ChRISTopher BerG</td>\n",
       "      <td>58</td>\n",
       "      <td>Female</td>\n",
       "      <td>AB-</td>\n",
       "      <td>Cancer</td>\n",
       "      <td>2021-05-23</td>\n",
       "      <td>Heather Day</td>\n",
       "      <td>Padilla-Walker</td>\n",
       "      <td>UnitedHealthcare</td>\n",
       "      <td>19784.631062</td>\n",
       "      <td>249</td>\n",
       "      <td>Elective</td>\n",
       "      <td>2021-06-22</td>\n",
       "      <td>Paracetamol</td>\n",
       "      <td>Inconclusive</td>\n",
       "    </tr>\n",
       "  </tbody>\n",
       "</table>\n",
       "</div>"
      ],
      "text/plain": [
       "                 Name  Age  Gender Blood Type Medical Condition  \\\n",
       "0       Bobby JacksOn   30    Male         B-            Cancer   \n",
       "1        LesLie TErRy   62    Male         A+           Obesity   \n",
       "2         DaNnY sMitH   76  Female         A-           Obesity   \n",
       "3        andrEw waTtS   28  Female         O+          Diabetes   \n",
       "4       adrIENNE bEll   43  Female        AB+            Cancer   \n",
       "5       EMILY JOHNSOn   36    Male         A+            Asthma   \n",
       "6      edwArD EDWaRDs   21  Female        AB-          Diabetes   \n",
       "7  CHrisTInA MARtinez   20  Female         A+            Cancer   \n",
       "8     JASmINe aGuIlaR   82    Male        AB+            Asthma   \n",
       "9    ChRISTopher BerG   58  Female        AB-            Cancer   \n",
       "\n",
       "  Date of Admission            Doctor                     Hospital  \\\n",
       "0        2024-01-31     Matthew Smith              Sons and Miller   \n",
       "1        2019-08-20   Samantha Davies                      Kim Inc   \n",
       "2        2022-09-22  Tiffany Mitchell                     Cook PLC   \n",
       "3        2020-11-18       Kevin Wells   Hernandez Rogers and Vang,   \n",
       "4        2022-09-19    Kathleen Hanna                  White-White   \n",
       "5        2023-12-20     Taylor Newton               Nunez-Humphrey   \n",
       "6        2020-11-03       Kelly Olson              Group Middleton   \n",
       "7        2021-12-28    Suzanne Thomas  Powell Robinson and Valdez,   \n",
       "8        2020-07-01   Daniel Ferguson                Sons Rich and   \n",
       "9        2021-05-23       Heather Day               Padilla-Walker   \n",
       "\n",
       "  Insurance Provider  Billing Amount  Room Number Admission Type  \\\n",
       "0         Blue Cross    18856.281306          328         Urgent   \n",
       "1           Medicare    33643.327287          265      Emergency   \n",
       "2              Aetna    27955.096079          205      Emergency   \n",
       "3           Medicare    37909.782410          450       Elective   \n",
       "4              Aetna    14238.317814          458         Urgent   \n",
       "5   UnitedHealthcare    48145.110951          389         Urgent   \n",
       "6           Medicare    19580.872345          389      Emergency   \n",
       "7              Cigna    45820.462722          277      Emergency   \n",
       "8              Cigna    50119.222792          316       Elective   \n",
       "9   UnitedHealthcare    19784.631062          249       Elective   \n",
       "\n",
       "  Discharge Date   Medication  Test Results  \n",
       "0     2024-02-02  Paracetamol        Normal  \n",
       "1     2019-08-26    Ibuprofen  Inconclusive  \n",
       "2     2022-10-07      Aspirin        Normal  \n",
       "3     2020-12-18    Ibuprofen      Abnormal  \n",
       "4     2022-10-09   Penicillin      Abnormal  \n",
       "5     2023-12-24    Ibuprofen        Normal  \n",
       "6     2020-11-15  Paracetamol  Inconclusive  \n",
       "7     2022-01-07  Paracetamol  Inconclusive  \n",
       "8     2020-07-14      Aspirin      Abnormal  \n",
       "9     2021-06-22  Paracetamol  Inconclusive  "
      ]
     },
     "execution_count": 2,
     "metadata": {},
     "output_type": "execute_result"
    }
   ],
   "source": [
    "df = pd.read_csv('healthcare_dataset.csv')\n",
    "df.head(10)"
   ]
  },
  {
   "cell_type": "code",
   "execution_count": 3,
   "id": "733e9d6a",
   "metadata": {
    "execution": {
     "iopub.execute_input": "2025-02-19T14:36:07.867375Z",
     "iopub.status.busy": "2025-02-19T14:36:07.866954Z",
     "iopub.status.idle": "2025-02-19T14:36:08.176993Z",
     "shell.execute_reply": "2025-02-19T14:36:08.175533Z"
    },
    "papermill": {
     "duration": 0.320468,
     "end_time": "2025-02-19T14:36:08.179337",
     "exception": false,
     "start_time": "2025-02-19T14:36:07.858869",
     "status": "completed"
    },
    "tags": []
   },
   "outputs": [
    {
     "name": "stdout",
     "output_type": "stream",
     "text": [
      "<class 'pandas.core.frame.DataFrame'>\n",
      "RangeIndex: 55500 entries, 0 to 55499\n",
      "Data columns (total 15 columns):\n",
      " #   Column              Non-Null Count  Dtype  \n",
      "---  ------              --------------  -----  \n",
      " 0   Name                55500 non-null  object \n",
      " 1   Age                 55500 non-null  int64  \n",
      " 2   Gender              55500 non-null  object \n",
      " 3   Blood Type          55500 non-null  object \n",
      " 4   Medical Condition   55500 non-null  object \n",
      " 5   Date of Admission   55500 non-null  object \n",
      " 6   Doctor              55500 non-null  object \n",
      " 7   Hospital            55500 non-null  object \n",
      " 8   Insurance Provider  55500 non-null  object \n",
      " 9   Billing Amount      55500 non-null  float64\n",
      " 10  Room Number         55500 non-null  int64  \n",
      " 11  Admission Type      55500 non-null  object \n",
      " 12  Discharge Date      55500 non-null  object \n",
      " 13  Medication          55500 non-null  object \n",
      " 14  Test Results        55500 non-null  object \n",
      "dtypes: float64(1), int64(2), object(12)\n",
      "memory usage: 6.4+ MB\n"
     ]
    },
    {
     "data": {
      "text/html": [
       "<div>\n",
       "<style scoped>\n",
       "    .dataframe tbody tr th:only-of-type {\n",
       "        vertical-align: middle;\n",
       "    }\n",
       "\n",
       "    .dataframe tbody tr th {\n",
       "        vertical-align: top;\n",
       "    }\n",
       "\n",
       "    .dataframe thead th {\n",
       "        text-align: right;\n",
       "    }\n",
       "</style>\n",
       "<table border=\"1\" class=\"dataframe\">\n",
       "  <thead>\n",
       "    <tr style=\"text-align: right;\">\n",
       "      <th></th>\n",
       "      <th>Name</th>\n",
       "      <th>Gender</th>\n",
       "      <th>Blood Type</th>\n",
       "      <th>Medical Condition</th>\n",
       "      <th>Date of Admission</th>\n",
       "      <th>Doctor</th>\n",
       "      <th>Hospital</th>\n",
       "      <th>Insurance Provider</th>\n",
       "      <th>Admission Type</th>\n",
       "      <th>Discharge Date</th>\n",
       "      <th>Medication</th>\n",
       "      <th>Test Results</th>\n",
       "    </tr>\n",
       "  </thead>\n",
       "  <tbody>\n",
       "    <tr>\n",
       "      <th>count</th>\n",
       "      <td>55500</td>\n",
       "      <td>55500</td>\n",
       "      <td>55500</td>\n",
       "      <td>55500</td>\n",
       "      <td>55500</td>\n",
       "      <td>55500</td>\n",
       "      <td>55500</td>\n",
       "      <td>55500</td>\n",
       "      <td>55500</td>\n",
       "      <td>55500</td>\n",
       "      <td>55500</td>\n",
       "      <td>55500</td>\n",
       "    </tr>\n",
       "    <tr>\n",
       "      <th>unique</th>\n",
       "      <td>49992</td>\n",
       "      <td>2</td>\n",
       "      <td>8</td>\n",
       "      <td>6</td>\n",
       "      <td>1827</td>\n",
       "      <td>40341</td>\n",
       "      <td>39876</td>\n",
       "      <td>5</td>\n",
       "      <td>3</td>\n",
       "      <td>1856</td>\n",
       "      <td>5</td>\n",
       "      <td>3</td>\n",
       "    </tr>\n",
       "    <tr>\n",
       "      <th>top</th>\n",
       "      <td>DAvId muNoZ</td>\n",
       "      <td>Male</td>\n",
       "      <td>A-</td>\n",
       "      <td>Arthritis</td>\n",
       "      <td>2024-03-16</td>\n",
       "      <td>Michael Smith</td>\n",
       "      <td>LLC Smith</td>\n",
       "      <td>Cigna</td>\n",
       "      <td>Elective</td>\n",
       "      <td>2020-03-15</td>\n",
       "      <td>Lipitor</td>\n",
       "      <td>Abnormal</td>\n",
       "    </tr>\n",
       "    <tr>\n",
       "      <th>freq</th>\n",
       "      <td>3</td>\n",
       "      <td>27774</td>\n",
       "      <td>6969</td>\n",
       "      <td>9308</td>\n",
       "      <td>50</td>\n",
       "      <td>27</td>\n",
       "      <td>44</td>\n",
       "      <td>11249</td>\n",
       "      <td>18655</td>\n",
       "      <td>53</td>\n",
       "      <td>11140</td>\n",
       "      <td>18627</td>\n",
       "    </tr>\n",
       "  </tbody>\n",
       "</table>\n",
       "</div>"
      ],
      "text/plain": [
       "               Name Gender Blood Type Medical Condition Date of Admission  \\\n",
       "count         55500  55500      55500             55500             55500   \n",
       "unique        49992      2          8                 6              1827   \n",
       "top     DAvId muNoZ   Male         A-         Arthritis        2024-03-16   \n",
       "freq              3  27774       6969              9308                50   \n",
       "\n",
       "               Doctor   Hospital Insurance Provider Admission Type  \\\n",
       "count           55500      55500              55500          55500   \n",
       "unique          40341      39876                  5              3   \n",
       "top     Michael Smith  LLC Smith              Cigna       Elective   \n",
       "freq               27         44              11249          18655   \n",
       "\n",
       "       Discharge Date Medication Test Results  \n",
       "count           55500      55500        55500  \n",
       "unique           1856          5            3  \n",
       "top        2020-03-15    Lipitor     Abnormal  \n",
       "freq               53      11140        18627  "
      ]
     },
     "execution_count": 3,
     "metadata": {},
     "output_type": "execute_result"
    }
   ],
   "source": [
    "df.info()\n",
    "df.describe()\n",
    "df.describe(include = object) # it gives the complete information about the categorical coln\n",
    "# there is no null values or missing values in our dataset"
   ]
  },
  {
   "cell_type": "code",
   "execution_count": 4,
   "id": "223d4453",
   "metadata": {
    "execution": {
     "iopub.execute_input": "2025-02-19T14:36:08.196043Z",
     "iopub.status.busy": "2025-02-19T14:36:08.195610Z",
     "iopub.status.idle": "2025-02-19T14:36:08.214682Z",
     "shell.execute_reply": "2025-02-19T14:36:08.213522Z"
    },
    "papermill": {
     "duration": 0.029755,
     "end_time": "2025-02-19T14:36:08.216786",
     "exception": false,
     "start_time": "2025-02-19T14:36:08.187031",
     "status": "completed"
    },
    "tags": []
   },
   "outputs": [
    {
     "data": {
      "text/plain": [
       "Test Results\n",
       "Abnormal        18627\n",
       "Normal          18517\n",
       "Inconclusive    18356\n",
       "Name: count, dtype: int64"
      ]
     },
     "execution_count": 4,
     "metadata": {},
     "output_type": "execute_result"
    }
   ],
   "source": [
    "df['Blood Type'].value_counts()\n",
    "df['Medical Condition'].value_counts()\n",
    "df['Test Results'].value_counts()"
   ]
  },
  {
   "cell_type": "code",
   "execution_count": 5,
   "id": "ce5ccde1",
   "metadata": {
    "execution": {
     "iopub.execute_input": "2025-02-19T14:36:08.234084Z",
     "iopub.status.busy": "2025-02-19T14:36:08.233697Z",
     "iopub.status.idle": "2025-02-19T14:36:08.249942Z",
     "shell.execute_reply": "2025-02-19T14:36:08.248725Z"
    },
    "papermill": {
     "duration": 0.027455,
     "end_time": "2025-02-19T14:36:08.252407",
     "exception": false,
     "start_time": "2025-02-19T14:36:08.224952",
     "status": "completed"
    },
    "tags": []
   },
   "outputs": [],
   "source": [
    "df = df[df['Billing Amount'] > 0]"
   ]
  },
  {
   "cell_type": "code",
   "execution_count": 6,
   "id": "8db194b4",
   "metadata": {
    "execution": {
     "iopub.execute_input": "2025-02-19T14:36:08.268579Z",
     "iopub.status.busy": "2025-02-19T14:36:08.268148Z",
     "iopub.status.idle": "2025-02-19T14:36:08.317422Z",
     "shell.execute_reply": "2025-02-19T14:36:08.316097Z"
    },
    "papermill": {
     "duration": 0.059753,
     "end_time": "2025-02-19T14:36:08.319620",
     "exception": false,
     "start_time": "2025-02-19T14:36:08.259867",
     "status": "completed"
    },
    "tags": []
   },
   "outputs": [
    {
     "data": {
      "text/plain": [
       "Name                  0\n",
       "Age                   0\n",
       "Gender                0\n",
       "Blood Type            0\n",
       "Medical Condition     0\n",
       "Date of Admission     0\n",
       "Doctor                0\n",
       "Hospital              0\n",
       "Insurance Provider    0\n",
       "Billing Amount        0\n",
       "Room Number           0\n",
       "Admission Type        0\n",
       "Discharge Date        0\n",
       "Medication            0\n",
       "Test Results          0\n",
       "dtype: int64"
      ]
     },
     "execution_count": 6,
     "metadata": {},
     "output_type": "execute_result"
    }
   ],
   "source": [
    "df.isnull().sum()"
   ]
  },
  {
   "cell_type": "code",
   "execution_count": 7,
   "id": "36f95e33",
   "metadata": {
    "execution": {
     "iopub.execute_input": "2025-02-19T14:36:08.339099Z",
     "iopub.status.busy": "2025-02-19T14:36:08.338748Z",
     "iopub.status.idle": "2025-02-19T14:36:08.385447Z",
     "shell.execute_reply": "2025-02-19T14:36:08.384019Z"
    },
    "papermill": {
     "duration": 0.058298,
     "end_time": "2025-02-19T14:36:08.387776",
     "exception": false,
     "start_time": "2025-02-19T14:36:08.329478",
     "status": "completed"
    },
    "tags": []
   },
   "outputs": [
    {
     "data": {
      "text/html": [
       "<div>\n",
       "<style scoped>\n",
       "    .dataframe tbody tr th:only-of-type {\n",
       "        vertical-align: middle;\n",
       "    }\n",
       "\n",
       "    .dataframe tbody tr th {\n",
       "        vertical-align: top;\n",
       "    }\n",
       "\n",
       "    .dataframe thead th {\n",
       "        text-align: right;\n",
       "    }\n",
       "</style>\n",
       "<table border=\"1\" class=\"dataframe\">\n",
       "  <thead>\n",
       "    <tr style=\"text-align: right;\">\n",
       "      <th></th>\n",
       "      <th>Name</th>\n",
       "      <th>Age</th>\n",
       "      <th>Gender</th>\n",
       "      <th>Blood Type</th>\n",
       "      <th>Medical Condition</th>\n",
       "      <th>Date of Admission</th>\n",
       "      <th>Doctor</th>\n",
       "      <th>Hospital</th>\n",
       "      <th>Insurance Provider</th>\n",
       "      <th>Billing Amount</th>\n",
       "      <th>Room Number</th>\n",
       "      <th>Admission Type</th>\n",
       "      <th>Discharge Date</th>\n",
       "      <th>Medication</th>\n",
       "      <th>Test Results</th>\n",
       "      <th>Admit_Period</th>\n",
       "    </tr>\n",
       "  </thead>\n",
       "  <tbody>\n",
       "    <tr>\n",
       "      <th>0</th>\n",
       "      <td>Bobby JacksOn</td>\n",
       "      <td>30</td>\n",
       "      <td>Male</td>\n",
       "      <td>B-</td>\n",
       "      <td>Cancer</td>\n",
       "      <td>2024-01-31</td>\n",
       "      <td>Matthew Smith</td>\n",
       "      <td>Sons and Miller</td>\n",
       "      <td>Blue Cross</td>\n",
       "      <td>18856.281306</td>\n",
       "      <td>328</td>\n",
       "      <td>Urgent</td>\n",
       "      <td>2024-02-02</td>\n",
       "      <td>Paracetamol</td>\n",
       "      <td>Normal</td>\n",
       "      <td>2</td>\n",
       "    </tr>\n",
       "    <tr>\n",
       "      <th>1</th>\n",
       "      <td>LesLie TErRy</td>\n",
       "      <td>62</td>\n",
       "      <td>Male</td>\n",
       "      <td>A+</td>\n",
       "      <td>Obesity</td>\n",
       "      <td>2019-08-20</td>\n",
       "      <td>Samantha Davies</td>\n",
       "      <td>Kim Inc</td>\n",
       "      <td>Medicare</td>\n",
       "      <td>33643.327287</td>\n",
       "      <td>265</td>\n",
       "      <td>Emergency</td>\n",
       "      <td>2019-08-26</td>\n",
       "      <td>Ibuprofen</td>\n",
       "      <td>Inconclusive</td>\n",
       "      <td>6</td>\n",
       "    </tr>\n",
       "    <tr>\n",
       "      <th>2</th>\n",
       "      <td>DaNnY sMitH</td>\n",
       "      <td>76</td>\n",
       "      <td>Female</td>\n",
       "      <td>A-</td>\n",
       "      <td>Obesity</td>\n",
       "      <td>2022-09-22</td>\n",
       "      <td>Tiffany Mitchell</td>\n",
       "      <td>Cook PLC</td>\n",
       "      <td>Aetna</td>\n",
       "      <td>27955.096079</td>\n",
       "      <td>205</td>\n",
       "      <td>Emergency</td>\n",
       "      <td>2022-10-07</td>\n",
       "      <td>Aspirin</td>\n",
       "      <td>Normal</td>\n",
       "      <td>15</td>\n",
       "    </tr>\n",
       "    <tr>\n",
       "      <th>3</th>\n",
       "      <td>andrEw waTtS</td>\n",
       "      <td>28</td>\n",
       "      <td>Female</td>\n",
       "      <td>O+</td>\n",
       "      <td>Diabetes</td>\n",
       "      <td>2020-11-18</td>\n",
       "      <td>Kevin Wells</td>\n",
       "      <td>Hernandez Rogers and Vang,</td>\n",
       "      <td>Medicare</td>\n",
       "      <td>37909.782410</td>\n",
       "      <td>450</td>\n",
       "      <td>Elective</td>\n",
       "      <td>2020-12-18</td>\n",
       "      <td>Ibuprofen</td>\n",
       "      <td>Abnormal</td>\n",
       "      <td>30</td>\n",
       "    </tr>\n",
       "    <tr>\n",
       "      <th>4</th>\n",
       "      <td>adrIENNE bEll</td>\n",
       "      <td>43</td>\n",
       "      <td>Female</td>\n",
       "      <td>AB+</td>\n",
       "      <td>Cancer</td>\n",
       "      <td>2022-09-19</td>\n",
       "      <td>Kathleen Hanna</td>\n",
       "      <td>White-White</td>\n",
       "      <td>Aetna</td>\n",
       "      <td>14238.317814</td>\n",
       "      <td>458</td>\n",
       "      <td>Urgent</td>\n",
       "      <td>2022-10-09</td>\n",
       "      <td>Penicillin</td>\n",
       "      <td>Abnormal</td>\n",
       "      <td>20</td>\n",
       "    </tr>\n",
       "  </tbody>\n",
       "</table>\n",
       "</div>"
      ],
      "text/plain": [
       "            Name  Age  Gender Blood Type Medical Condition Date of Admission  \\\n",
       "0  Bobby JacksOn   30    Male         B-            Cancer        2024-01-31   \n",
       "1   LesLie TErRy   62    Male         A+           Obesity        2019-08-20   \n",
       "2    DaNnY sMitH   76  Female         A-           Obesity        2022-09-22   \n",
       "3   andrEw waTtS   28  Female         O+          Diabetes        2020-11-18   \n",
       "4  adrIENNE bEll   43  Female        AB+            Cancer        2022-09-19   \n",
       "\n",
       "             Doctor                    Hospital Insurance Provider  \\\n",
       "0     Matthew Smith             Sons and Miller         Blue Cross   \n",
       "1   Samantha Davies                     Kim Inc           Medicare   \n",
       "2  Tiffany Mitchell                    Cook PLC              Aetna   \n",
       "3       Kevin Wells  Hernandez Rogers and Vang,           Medicare   \n",
       "4    Kathleen Hanna                 White-White              Aetna   \n",
       "\n",
       "   Billing Amount  Room Number Admission Type Discharge Date   Medication  \\\n",
       "0    18856.281306          328         Urgent     2024-02-02  Paracetamol   \n",
       "1    33643.327287          265      Emergency     2019-08-26    Ibuprofen   \n",
       "2    27955.096079          205      Emergency     2022-10-07      Aspirin   \n",
       "3    37909.782410          450       Elective     2020-12-18    Ibuprofen   \n",
       "4    14238.317814          458         Urgent     2022-10-09   Penicillin   \n",
       "\n",
       "   Test Results  Admit_Period  \n",
       "0        Normal             2  \n",
       "1  Inconclusive             6  \n",
       "2        Normal            15  \n",
       "3      Abnormal            30  \n",
       "4      Abnormal            20  "
      ]
     },
     "execution_count": 7,
     "metadata": {},
     "output_type": "execute_result"
    }
   ],
   "source": [
    "df['Admit_Period'] = (pd.to_datetime(df['Discharge Date']) - pd.to_datetime(df['Date of Admission'])).dt.days\n",
    "df.head()"
   ]
  },
  {
   "cell_type": "code",
   "execution_count": 8,
   "id": "91a1ba57",
   "metadata": {
    "execution": {
     "iopub.execute_input": "2025-02-19T14:36:08.405887Z",
     "iopub.status.busy": "2025-02-19T14:36:08.405470Z",
     "iopub.status.idle": "2025-02-19T14:36:08.436806Z",
     "shell.execute_reply": "2025-02-19T14:36:08.435364Z"
    },
    "papermill": {
     "duration": 0.042751,
     "end_time": "2025-02-19T14:36:08.438971",
     "exception": false,
     "start_time": "2025-02-19T14:36:08.396220",
     "status": "completed"
    },
    "tags": []
   },
   "outputs": [
    {
     "data": {
      "text/html": [
       "<div>\n",
       "<style scoped>\n",
       "    .dataframe tbody tr th:only-of-type {\n",
       "        vertical-align: middle;\n",
       "    }\n",
       "\n",
       "    .dataframe tbody tr th {\n",
       "        vertical-align: top;\n",
       "    }\n",
       "\n",
       "    .dataframe thead th {\n",
       "        text-align: right;\n",
       "    }\n",
       "</style>\n",
       "<table border=\"1\" class=\"dataframe\">\n",
       "  <thead>\n",
       "    <tr style=\"text-align: right;\">\n",
       "      <th></th>\n",
       "      <th>Age</th>\n",
       "      <th>Billing Amount</th>\n",
       "      <th>Room Number</th>\n",
       "      <th>Admit_Period</th>\n",
       "    </tr>\n",
       "  </thead>\n",
       "  <tbody>\n",
       "    <tr>\n",
       "      <th>count</th>\n",
       "      <td>55392.000000</td>\n",
       "      <td>55392.000000</td>\n",
       "      <td>55392.000000</td>\n",
       "      <td>55392.000000</td>\n",
       "    </tr>\n",
       "    <tr>\n",
       "      <th>mean</th>\n",
       "      <td>51.538543</td>\n",
       "      <td>25590.084632</td>\n",
       "      <td>301.119205</td>\n",
       "      <td>15.508774</td>\n",
       "    </tr>\n",
       "    <tr>\n",
       "      <th>std</th>\n",
       "      <td>19.602045</td>\n",
       "      <td>14178.657522</td>\n",
       "      <td>115.238552</td>\n",
       "      <td>8.659552</td>\n",
       "    </tr>\n",
       "    <tr>\n",
       "      <th>min</th>\n",
       "      <td>13.000000</td>\n",
       "      <td>9.238787</td>\n",
       "      <td>101.000000</td>\n",
       "      <td>1.000000</td>\n",
       "    </tr>\n",
       "    <tr>\n",
       "      <th>25%</th>\n",
       "      <td>35.000000</td>\n",
       "      <td>13297.478682</td>\n",
       "      <td>202.000000</td>\n",
       "      <td>8.000000</td>\n",
       "    </tr>\n",
       "    <tr>\n",
       "      <th>50%</th>\n",
       "      <td>52.000000</td>\n",
       "      <td>25573.823359</td>\n",
       "      <td>302.000000</td>\n",
       "      <td>15.000000</td>\n",
       "    </tr>\n",
       "    <tr>\n",
       "      <th>75%</th>\n",
       "      <td>68.000000</td>\n",
       "      <td>37849.210062</td>\n",
       "      <td>401.000000</td>\n",
       "      <td>23.000000</td>\n",
       "    </tr>\n",
       "    <tr>\n",
       "      <th>max</th>\n",
       "      <td>89.000000</td>\n",
       "      <td>52764.276736</td>\n",
       "      <td>500.000000</td>\n",
       "      <td>30.000000</td>\n",
       "    </tr>\n",
       "  </tbody>\n",
       "</table>\n",
       "</div>"
      ],
      "text/plain": [
       "                Age  Billing Amount   Room Number  Admit_Period\n",
       "count  55392.000000    55392.000000  55392.000000  55392.000000\n",
       "mean      51.538543    25590.084632    301.119205     15.508774\n",
       "std       19.602045    14178.657522    115.238552      8.659552\n",
       "min       13.000000        9.238787    101.000000      1.000000\n",
       "25%       35.000000    13297.478682    202.000000      8.000000\n",
       "50%       52.000000    25573.823359    302.000000     15.000000\n",
       "75%       68.000000    37849.210062    401.000000     23.000000\n",
       "max       89.000000    52764.276736    500.000000     30.000000"
      ]
     },
     "execution_count": 8,
     "metadata": {},
     "output_type": "execute_result"
    }
   ],
   "source": [
    "df.describe()"
   ]
  },
  {
   "cell_type": "code",
   "execution_count": 9,
   "id": "9d77b15d",
   "metadata": {
    "execution": {
     "iopub.execute_input": "2025-02-19T14:36:08.456005Z",
     "iopub.status.busy": "2025-02-19T14:36:08.455578Z",
     "iopub.status.idle": "2025-02-19T14:36:08.476385Z",
     "shell.execute_reply": "2025-02-19T14:36:08.474903Z"
    },
    "papermill": {
     "duration": 0.031762,
     "end_time": "2025-02-19T14:36:08.478427",
     "exception": false,
     "start_time": "2025-02-19T14:36:08.446665",
     "status": "completed"
    },
    "tags": []
   },
   "outputs": [
    {
     "data": {
      "text/html": [
       "<div>\n",
       "<style scoped>\n",
       "    .dataframe tbody tr th:only-of-type {\n",
       "        vertical-align: middle;\n",
       "    }\n",
       "\n",
       "    .dataframe tbody tr th {\n",
       "        vertical-align: top;\n",
       "    }\n",
       "\n",
       "    .dataframe thead th {\n",
       "        text-align: right;\n",
       "    }\n",
       "</style>\n",
       "<table border=\"1\" class=\"dataframe\">\n",
       "  <thead>\n",
       "    <tr style=\"text-align: right;\">\n",
       "      <th></th>\n",
       "      <th>Age</th>\n",
       "      <th>Gender</th>\n",
       "      <th>Blood Type</th>\n",
       "      <th>Medical Condition</th>\n",
       "      <th>Insurance Provider</th>\n",
       "      <th>Billing Amount</th>\n",
       "      <th>Admission Type</th>\n",
       "      <th>Medication</th>\n",
       "      <th>Admit_Period</th>\n",
       "      <th>Test Results</th>\n",
       "    </tr>\n",
       "  </thead>\n",
       "  <tbody>\n",
       "    <tr>\n",
       "      <th>0</th>\n",
       "      <td>30</td>\n",
       "      <td>Male</td>\n",
       "      <td>B-</td>\n",
       "      <td>Cancer</td>\n",
       "      <td>Blue Cross</td>\n",
       "      <td>18856.281306</td>\n",
       "      <td>Urgent</td>\n",
       "      <td>Paracetamol</td>\n",
       "      <td>2</td>\n",
       "      <td>Normal</td>\n",
       "    </tr>\n",
       "  </tbody>\n",
       "</table>\n",
       "</div>"
      ],
      "text/plain": [
       "   Age Gender Blood Type Medical Condition Insurance Provider  Billing Amount  \\\n",
       "0   30   Male         B-            Cancer         Blue Cross    18856.281306   \n",
       "\n",
       "  Admission Type   Medication  Admit_Period Test Results  \n",
       "0         Urgent  Paracetamol             2       Normal  "
      ]
     },
     "execution_count": 9,
     "metadata": {},
     "output_type": "execute_result"
    }
   ],
   "source": [
    "\n",
    "df = df.loc[:, ['Age', 'Gender', 'Blood Type', 'Medical Condition', 'Insurance Provider',\n",
    "               'Billing Amount', 'Admission Type', 'Medication', 'Admit_Period','Test Results']]\n",
    "df.head(1)"
   ]
  },
  {
   "cell_type": "code",
   "execution_count": 10,
   "id": "be5edada",
   "metadata": {
    "execution": {
     "iopub.execute_input": "2025-02-19T14:36:08.495720Z",
     "iopub.status.busy": "2025-02-19T14:36:08.495235Z",
     "iopub.status.idle": "2025-02-19T14:36:10.806801Z",
     "shell.execute_reply": "2025-02-19T14:36:10.805424Z"
    },
    "papermill": {
     "duration": 2.322319,
     "end_time": "2025-02-19T14:36:10.808652",
     "exception": false,
     "start_time": "2025-02-19T14:36:08.486333",
     "status": "completed"
    },
    "tags": []
   },
   "outputs": [
    {
     "data": {
      "text/plain": [
       "<Axes: >"
      ]
     },
     "execution_count": 10,
     "metadata": {},
     "output_type": "execute_result"
    },
    {
     "data": {
      "image/png": "[encoded data removed]",
      "text/plain": [
       "<Figure size 640x480 with 1 Axes>"
      ]
     },
     "metadata": {},
     "output_type": "display_data"
    }
   ],
   "source": [
    "import seaborn as sns\n",
    "sns.boxplot(df[['Age', 'Admit_Period']])\n",
    "# there are no outliers "
   ]
  },
  {
   "cell_type": "code",
   "execution_count": 11,
   "id": "ca2a4402",
   "metadata": {
    "execution": {
     "iopub.execute_input": "2025-02-19T14:36:10.827548Z",
     "iopub.status.busy": "2025-02-19T14:36:10.826989Z",
     "iopub.status.idle": "2025-02-19T14:36:11.431989Z",
     "shell.execute_reply": "2025-02-19T14:36:11.430839Z"
    },
    "papermill": {
     "duration": 0.617102,
     "end_time": "2025-02-19T14:36:11.434289",
     "exception": false,
     "start_time": "2025-02-19T14:36:10.817187",
     "status": "completed"
    },
    "tags": []
   },
   "outputs": [],
   "source": [
    "from sklearn.model_selection import train_test_split\n",
    "from sklearn.tree import DecisionTreeClassifier\n",
    "from sklearn import tree\n",
    "from sklearn.metrics import classification_report\n",
    "from sklearn import preprocessing\n",
    "from sklearn.preprocessing import LabelEncoder\n",
    "from sklearn.model_selection import GridSearchCV\n",
    "from sklearn.metrics import accuracy_score"
   ]
  },
  {
   "cell_type": "markdown",
   "id": "bc72880d",
   "metadata": {
    "papermill": {
     "duration": 0.008175,
     "end_time": "2025-02-19T14:36:11.450708",
     "exception": false,
     "start_time": "2025-02-19T14:36:11.442533",
     "status": "completed"
    },
    "tags": []
   },
   "source": [
    "# Label Encoding \n",
    "converting categorical to  numerical data "
   ]
  },
  {
   "cell_type": "code",
   "execution_count": 12,
   "id": "b83ef923",
   "metadata": {
    "execution": {
     "iopub.execute_input": "2025-02-19T14:36:11.468737Z",
     "iopub.status.busy": "2025-02-19T14:36:11.468169Z",
     "iopub.status.idle": "2025-02-19T14:36:11.559906Z",
     "shell.execute_reply": "2025-02-19T14:36:11.558419Z"
    },
    "papermill": {
     "duration": 0.103188,
     "end_time": "2025-02-19T14:36:11.561908",
     "exception": false,
     "start_time": "2025-02-19T14:36:11.458720",
     "status": "completed"
    },
    "tags": []
   },
   "outputs": [
    {
     "data": {
      "text/html": [
       "<div>\n",
       "<style scoped>\n",
       "    .dataframe tbody tr th:only-of-type {\n",
       "        vertical-align: middle;\n",
       "    }\n",
       "\n",
       "    .dataframe tbody tr th {\n",
       "        vertical-align: top;\n",
       "    }\n",
       "\n",
       "    .dataframe thead th {\n",
       "        text-align: right;\n",
       "    }\n",
       "</style>\n",
       "<table border=\"1\" class=\"dataframe\">\n",
       "  <thead>\n",
       "    <tr style=\"text-align: right;\">\n",
       "      <th></th>\n",
       "      <th>Age</th>\n",
       "      <th>Billing Amount</th>\n",
       "      <th>Admit_Period</th>\n",
       "      <th>Test Results</th>\n",
       "      <th>Gender_Male</th>\n",
       "      <th>Blood Type_A-</th>\n",
       "      <th>Blood Type_AB+</th>\n",
       "      <th>Blood Type_AB-</th>\n",
       "      <th>Blood Type_B+</th>\n",
       "      <th>Blood Type_B-</th>\n",
       "      <th>...</th>\n",
       "      <th>Insurance Provider_Blue Cross</th>\n",
       "      <th>Insurance Provider_Cigna</th>\n",
       "      <th>Insurance Provider_Medicare</th>\n",
       "      <th>Insurance Provider_UnitedHealthcare</th>\n",
       "      <th>Admission Type_Emergency</th>\n",
       "      <th>Admission Type_Urgent</th>\n",
       "      <th>Medication_Ibuprofen</th>\n",
       "      <th>Medication_Lipitor</th>\n",
       "      <th>Medication_Paracetamol</th>\n",
       "      <th>Medication_Penicillin</th>\n",
       "    </tr>\n",
       "  </thead>\n",
       "  <tbody>\n",
       "    <tr>\n",
       "      <th>0</th>\n",
       "      <td>30</td>\n",
       "      <td>18856.281306</td>\n",
       "      <td>2</td>\n",
       "      <td>2</td>\n",
       "      <td>True</td>\n",
       "      <td>False</td>\n",
       "      <td>False</td>\n",
       "      <td>False</td>\n",
       "      <td>False</td>\n",
       "      <td>True</td>\n",
       "      <td>...</td>\n",
       "      <td>True</td>\n",
       "      <td>False</td>\n",
       "      <td>False</td>\n",
       "      <td>False</td>\n",
       "      <td>False</td>\n",
       "      <td>True</td>\n",
       "      <td>False</td>\n",
       "      <td>False</td>\n",
       "      <td>True</td>\n",
       "      <td>False</td>\n",
       "    </tr>\n",
       "    <tr>\n",
       "      <th>1</th>\n",
       "      <td>62</td>\n",
       "      <td>33643.327287</td>\n",
       "      <td>6</td>\n",
       "      <td>1</td>\n",
       "      <td>True</td>\n",
       "      <td>False</td>\n",
       "      <td>False</td>\n",
       "      <td>False</td>\n",
       "      <td>False</td>\n",
       "      <td>False</td>\n",
       "      <td>...</td>\n",
       "      <td>False</td>\n",
       "      <td>False</td>\n",
       "      <td>True</td>\n",
       "      <td>False</td>\n",
       "      <td>True</td>\n",
       "      <td>False</td>\n",
       "      <td>True</td>\n",
       "      <td>False</td>\n",
       "      <td>False</td>\n",
       "      <td>False</td>\n",
       "    </tr>\n",
       "    <tr>\n",
       "      <th>2</th>\n",
       "      <td>76</td>\n",
       "      <td>27955.096079</td>\n",
       "      <td>15</td>\n",
       "      <td>2</td>\n",
       "      <td>False</td>\n",
       "      <td>True</td>\n",
       "      <td>False</td>\n",
       "      <td>False</td>\n",
       "      <td>False</td>\n",
       "      <td>False</td>\n",
       "      <td>...</td>\n",
       "      <td>False</td>\n",
       "      <td>False</td>\n",
       "      <td>False</td>\n",
       "      <td>False</td>\n",
       "      <td>True</td>\n",
       "      <td>False</td>\n",
       "      <td>False</td>\n",
       "      <td>False</td>\n",
       "      <td>False</td>\n",
       "      <td>False</td>\n",
       "    </tr>\n",
       "    <tr>\n",
       "      <th>3</th>\n",
       "      <td>28</td>\n",
       "      <td>37909.782410</td>\n",
       "      <td>30</td>\n",
       "      <td>0</td>\n",
       "      <td>False</td>\n",
       "      <td>False</td>\n",
       "      <td>False</td>\n",
       "      <td>False</td>\n",
       "      <td>False</td>\n",
       "      <td>False</td>\n",
       "      <td>...</td>\n",
       "      <td>False</td>\n",
       "      <td>False</td>\n",
       "      <td>True</td>\n",
       "      <td>False</td>\n",
       "      <td>False</td>\n",
       "      <td>False</td>\n",
       "      <td>True</td>\n",
       "      <td>False</td>\n",
       "      <td>False</td>\n",
       "      <td>False</td>\n",
       "    </tr>\n",
       "  </tbody>\n",
       "</table>\n",
       "<p>4 rows × 27 columns</p>\n",
       "</div>"
      ],
      "text/plain": [
       "   Age  Billing Amount  Admit_Period  Test Results  Gender_Male  \\\n",
       "0   30    18856.281306             2             2         True   \n",
       "1   62    33643.327287             6             1         True   \n",
       "2   76    27955.096079            15             2        False   \n",
       "3   28    37909.782410            30             0        False   \n",
       "\n",
       "   Blood Type_A-  Blood Type_AB+  Blood Type_AB-  Blood Type_B+  \\\n",
       "0          False           False           False          False   \n",
       "1          False           False           False          False   \n",
       "2           True           False           False          False   \n",
       "3          False           False           False          False   \n",
       "\n",
       "   Blood Type_B-  ...  Insurance Provider_Blue Cross  \\\n",
       "0           True  ...                           True   \n",
       "1          False  ...                          False   \n",
       "2          False  ...                          False   \n",
       "3          False  ...                          False   \n",
       "\n",
       "   Insurance Provider_Cigna  Insurance Provider_Medicare  \\\n",
       "0                     False                        False   \n",
       "1                     False                         True   \n",
       "2                     False                        False   \n",
       "3                     False                         True   \n",
       "\n",
       "   Insurance Provider_UnitedHealthcare  Admission Type_Emergency  \\\n",
       "0                                False                     False   \n",
       "1                                False                      True   \n",
       "2                                False                      True   \n",
       "3                                False                     False   \n",
       "\n",
       "   Admission Type_Urgent  Medication_Ibuprofen  Medication_Lipitor  \\\n",
       "0                   True                 False               False   \n",
       "1                  False                  True               False   \n",
       "2                  False                 False               False   \n",
       "3                  False                  True               False   \n",
       "\n",
       "   Medication_Paracetamol  Medication_Penicillin  \n",
       "0                    True                  False  \n",
       "1                   False                  False  \n",
       "2                   False                  False  \n",
       "3                   False                  False  \n",
       "\n",
       "[4 rows x 27 columns]"
      ]
     },
     "execution_count": 12,
     "metadata": {},
     "output_type": "execute_result"
    }
   ],
   "source": [
    "le = LabelEncoder()\n",
    "df = pd.get_dummies(df, columns=['Gender', 'Blood Type', 'Medical Condition', 'Insurance Provider',\n",
    "                                 'Admission Type', 'Medication'], drop_first=True)\n",
    "df['Test Results'] = le.fit_transform(df['Test Results']) \n",
    "df.head(4)\n"
   ]
  },
  {
   "cell_type": "markdown",
   "id": "39f2a487",
   "metadata": {
    "papermill": {
     "duration": 0.007984,
     "end_time": "2025-02-19T14:36:11.578462",
     "exception": false,
     "start_time": "2025-02-19T14:36:11.570478",
     "status": "completed"
    },
    "tags": []
   },
   "source": [
    "# Split data \n",
    "splitting data in to x and y"
   ]
  },
  {
   "cell_type": "code",
   "execution_count": 13,
   "id": "7a2f1a34",
   "metadata": {
    "execution": {
     "iopub.execute_input": "2025-02-19T14:36:11.597452Z",
     "iopub.status.busy": "2025-02-19T14:36:11.596951Z",
     "iopub.status.idle": "2025-02-19T14:36:11.603100Z",
     "shell.execute_reply": "2025-02-19T14:36:11.601619Z"
    },
    "papermill": {
     "duration": 0.018261,
     "end_time": "2025-02-19T14:36:11.605197",
     "exception": false,
     "start_time": "2025-02-19T14:36:11.586936",
     "status": "completed"
    },
    "tags": []
   },
   "outputs": [],
   "source": [
    "y = df.pop('Test Results')\n",
    "x = df"
   ]
  },
  {
   "cell_type": "code",
   "execution_count": 14,
   "id": "68293aa9",
   "metadata": {
    "execution": {
     "iopub.execute_input": "2025-02-19T14:36:11.624195Z",
     "iopub.status.busy": "2025-02-19T14:36:11.623748Z",
     "iopub.status.idle": "2025-02-19T14:36:11.641447Z",
     "shell.execute_reply": "2025-02-19T14:36:11.640212Z"
    },
    "papermill": {
     "duration": 0.029952,
     "end_time": "2025-02-19T14:36:11.643843",
     "exception": false,
     "start_time": "2025-02-19T14:36:11.613891",
     "status": "completed"
    },
    "tags": []
   },
   "outputs": [],
   "source": [
    "xtrain, xtest, ytrain, ytest = train_test_split(x,y, test_size = 0.2, random_state = 1)"
   ]
  },
  {
   "cell_type": "markdown",
   "id": "492468db",
   "metadata": {
    "papermill": {
     "duration": 0.008502,
     "end_time": "2025-02-19T14:36:11.661441",
     "exception": false,
     "start_time": "2025-02-19T14:36:11.652939",
     "status": "completed"
    },
    "tags": []
   },
   "source": [
    "# Model Bulding"
   ]
  },
  {
   "cell_type": "code",
   "execution_count": 15,
   "id": "1a795993",
   "metadata": {
    "execution": {
     "iopub.execute_input": "2025-02-19T14:36:11.680751Z",
     "iopub.status.busy": "2025-02-19T14:36:11.680141Z",
     "iopub.status.idle": "2025-02-19T14:36:11.807172Z",
     "shell.execute_reply": "2025-02-19T14:36:11.805800Z"
    },
    "papermill": {
     "duration": 0.139466,
     "end_time": "2025-02-19T14:36:11.809440",
     "exception": false,
     "start_time": "2025-02-19T14:36:11.669974",
     "status": "completed"
    },
    "tags": []
   },
   "outputs": [
    {
     "data": {
      "text/html": [
       "<style>#sk-container-id-1 {color: black;background-color: white;}#sk-container-id-1 pre{padding: 0;}#sk-container-id-1 div.sk-toggleable {background-color: white;}#sk-container-id-1 label.sk-toggleable__label {cursor: pointer;display: block;width: 100%;margin-bottom: 0;padding: 0.3em;box-sizing: border-box;text-align: center;}#sk-container-id-1 label.sk-toggleable__label-arrow:before {content: \"▸\";float: left;margin-right: 0.25em;color: #696969;}#sk-container-id-1 label.sk-toggleable__label-arrow:hover:before {color: black;}#sk-container-id-1 div.sk-estimator:hover label.sk-toggleable__label-arrow:before {color: black;}#sk-container-id-1 div.sk-toggleable__content {max-height: 0;max-width: 0;overflow: hidden;text-align: left;background-color: #f0f8ff;}#sk-container-id-1 div.sk-toggleable__content pre {margin: 0.2em;color: black;border-radius: 0.25em;background-color: #f0f8ff;}#sk-container-id-1 input.sk-toggleable__control:checked~div.sk-toggleable__content {max-height: 200px;max-width: 100%;overflow: auto;}#sk-container-id-1 input.sk-toggleable__control:checked~label.sk-toggleable__label-arrow:before {content: \"▾\";}#sk-container-id-1 div.sk-estimator input.sk-toggleable__control:checked~label.sk-toggleable__label {background-color: #d4ebff;}#sk-container-id-1 div.sk-label input.sk-toggleable__control:checked~label.sk-toggleable__label {background-color: #d4ebff;}#sk-container-id-1 input.sk-hidden--visually {border: 0;clip: rect(1px 1px 1px 1px);clip: rect(1px, 1px, 1px, 1px);height: 1px;margin: -1px;overflow: hidden;padding: 0;position: absolute;width: 1px;}#sk-container-id-1 div.sk-estimator {font-family: monospace;background-color: #f0f8ff;border: 1px dotted black;border-radius: 0.25em;box-sizing: border-box;margin-bottom: 0.5em;}#sk-container-id-1 div.sk-estimator:hover {background-color: #d4ebff;}#sk-container-id-1 div.sk-parallel-item::after {content: \"\";width: 100%;border-bottom: 1px solid gray;flex-grow: 1;}#sk-container-id-1 div.sk-label:hover label.sk-toggleable__label {background-color: #d4ebff;}#sk-container-id-1 div.sk-serial::before {content: \"\";position: absolute;border-left: 1px solid gray;box-sizing: border-box;top: 0;bottom: 0;left: 50%;z-index: 0;}#sk-container-id-1 div.sk-serial {display: flex;flex-direction: column;align-items: center;background-color: white;padding-right: 0.2em;padding-left: 0.2em;position: relative;}#sk-container-id-1 div.sk-item {position: relative;z-index: 1;}#sk-container-id-1 div.sk-parallel {display: flex;align-items: stretch;justify-content: center;background-color: white;position: relative;}#sk-container-id-1 div.sk-item::before, #sk-container-id-1 div.sk-parallel-item::before {content: \"\";position: absolute;border-left: 1px solid gray;box-sizing: border-box;top: 0;bottom: 0;left: 50%;z-index: -1;}#sk-container-id-1 div.sk-parallel-item {display: flex;flex-direction: column;z-index: 1;position: relative;background-color: white;}#sk-container-id-1 div.sk-parallel-item:first-child::after {align-self: flex-end;width: 50%;}#sk-container-id-1 div.sk-parallel-item:last-child::after {align-self: flex-start;width: 50%;}#sk-container-id-1 div.sk-parallel-item:only-child::after {width: 0;}#sk-container-id-1 div.sk-dashed-wrapped {border: 1px dashed gray;margin: 0 0.4em 0.5em 0.4em;box-sizing: border-box;padding-bottom: 0.4em;background-color: white;}#sk-container-id-1 div.sk-label label {font-family: monospace;font-weight: bold;display: inline-block;line-height: 1.2em;}#sk-container-id-1 div.sk-label-container {text-align: center;}#sk-container-id-1 div.sk-container {/* jupyter's `normalize.less` sets `[hidden] { display: none; }` but bootstrap.min.css set `[hidden] { display: none !important; }` so we also need the `!important` here to be able to override the default hidden behavior on the sphinx rendered scikit-learn.org. See: https://github.com/scikit-learn/scikit-learn/issues/21755 */display: inline-block !important;position: relative;}#sk-container-id-1 div.sk-text-repr-fallback {display: none;}</style><div id=\"sk-container-id-1\" class=\"sk-top-container\"><div class=\"sk-text-repr-fallback\"><pre>DecisionTreeClassifier(max_depth=4, random_state=1)</pre><b>In a Jupyter environment, please rerun this cell to show the HTML representation or trust the notebook. <br />On GitHub, the HTML representation is unable to render, please try loading this page with nbviewer.org.</b></div><div class=\"sk-container\" hidden><div class=\"sk-item\"><div class=\"sk-estimator sk-toggleable\"><input class=\"sk-toggleable__control sk-hidden--visually\" id=\"sk-estimator-id-1\" type=\"checkbox\" checked><label for=\"sk-estimator-id-1\" class=\"sk-toggleable__label sk-toggleable__label-arrow\">DecisionTreeClassifier</label><div class=\"sk-toggleable__content\"><pre>DecisionTreeClassifier(max_depth=4, random_state=1)</pre></div></div></div></div></div>"
      ],
      "text/plain": [
       "DecisionTreeClassifier(max_depth=4, random_state=1)"
      ]
     },
     "execution_count": 15,
     "metadata": {},
     "output_type": "execute_result"
    }
   ],
   "source": [
    "model = DecisionTreeClassifier(criterion = 'gini', max_depth = 4, random_state = 1)\n",
    "\n",
    "# fit the model \n",
    "model.fit(xtrain, ytrain)"
   ]
  },
  {
   "cell_type": "code",
   "execution_count": 16,
   "id": "a3845b3a",
   "metadata": {
    "execution": {
     "iopub.execute_input": "2025-02-19T14:36:11.829539Z",
     "iopub.status.busy": "2025-02-19T14:36:11.829082Z",
     "iopub.status.idle": "2025-02-19T14:36:12.883333Z",
     "shell.execute_reply": "2025-02-19T14:36:12.882009Z"
    },
    "papermill": {
     "duration": 1.066537,
     "end_time": "2025-02-19T14:36:12.885156",
     "exception": false,
     "start_time": "2025-02-19T14:36:11.818619",
     "status": "completed"
    },
    "tags": []
   },
   "outputs": [
    {
     "data": {
      "image/png": "[encoded data removed]",
      "text/plain": [
       "<Figure size 640x480 with 1 Axes>"
      ]
     },
     "metadata": {},
     "output_type": "display_data"
    }
   ],
   "source": [
    "import matplotlib.pyplot as plt\n",
    "from sklearn.tree import plot_tree\n",
    "plot_tree(model)\n",
    "plt.show()"
   ]
  },
  {
   "cell_type": "code",
   "execution_count": 17,
   "id": "465b76e4",
   "metadata": {
    "execution": {
     "iopub.execute_input": "2025-02-19T14:36:12.905767Z",
     "iopub.status.busy": "2025-02-19T14:36:12.905373Z",
     "iopub.status.idle": "2025-02-19T14:36:12.918963Z",
     "shell.execute_reply": "2025-02-19T14:36:12.917570Z"
    },
    "papermill": {
     "duration": 0.026333,
     "end_time": "2025-02-19T14:36:12.921068",
     "exception": false,
     "start_time": "2025-02-19T14:36:12.894735",
     "status": "completed"
    },
    "tags": []
   },
   "outputs": [
    {
     "name": "stdout",
     "output_type": "stream",
     "text": [
      "Accuracy  0.3371242891957758\n"
     ]
    }
   ],
   "source": [
    "ypred = model.predict(xtest)\n",
    "print('Accuracy ', accuracy_score(ytest, ypred))"
   ]
  },
  {
   "cell_type": "code",
   "execution_count": 18,
   "id": "47c174f9",
   "metadata": {
    "execution": {
     "iopub.execute_input": "2025-02-19T14:36:12.942997Z",
     "iopub.status.busy": "2025-02-19T14:36:12.942588Z",
     "iopub.status.idle": "2025-02-19T14:36:18.365908Z",
     "shell.execute_reply": "2025-02-19T14:36:18.364502Z"
    },
    "papermill": {
     "duration": 5.436806,
     "end_time": "2025-02-19T14:36:18.368019",
     "exception": false,
     "start_time": "2025-02-19T14:36:12.931213",
     "status": "completed"
    },
    "tags": []
   },
   "outputs": [
    {
     "data": {
      "text/html": [
       "<style>#sk-container-id-2 {color: black;background-color: white;}#sk-container-id-2 pre{padding: 0;}#sk-container-id-2 div.sk-toggleable {background-color: white;}#sk-container-id-2 label.sk-toggleable__label {cursor: pointer;display: block;width: 100%;margin-bottom: 0;padding: 0.3em;box-sizing: border-box;text-align: center;}#sk-container-id-2 label.sk-toggleable__label-arrow:before {content: \"▸\";float: left;margin-right: 0.25em;color: #696969;}#sk-container-id-2 label.sk-toggleable__label-arrow:hover:before {color: black;}#sk-container-id-2 div.sk-estimator:hover label.sk-toggleable__label-arrow:before {color: black;}#sk-container-id-2 div.sk-toggleable__content {max-height: 0;max-width: 0;overflow: hidden;text-align: left;background-color: #f0f8ff;}#sk-container-id-2 div.sk-toggleable__content pre {margin: 0.2em;color: black;border-radius: 0.25em;background-color: #f0f8ff;}#sk-container-id-2 input.sk-toggleable__control:checked~div.sk-toggleable__content {max-height: 200px;max-width: 100%;overflow: auto;}#sk-container-id-2 input.sk-toggleable__control:checked~label.sk-toggleable__label-arrow:before {content: \"▾\";}#sk-container-id-2 div.sk-estimator input.sk-toggleable__control:checked~label.sk-toggleable__label {background-color: #d4ebff;}#sk-container-id-2 div.sk-label input.sk-toggleable__control:checked~label.sk-toggleable__label {background-color: #d4ebff;}#sk-container-id-2 input.sk-hidden--visually {border: 0;clip: rect(1px 1px 1px 1px);clip: rect(1px, 1px, 1px, 1px);height: 1px;margin: -1px;overflow: hidden;padding: 0;position: absolute;width: 1px;}#sk-container-id-2 div.sk-estimator {font-family: monospace;background-color: #f0f8ff;border: 1px dotted black;border-radius: 0.25em;box-sizing: border-box;margin-bottom: 0.5em;}#sk-container-id-2 div.sk-estimator:hover {background-color: #d4ebff;}#sk-container-id-2 div.sk-parallel-item::after {content: \"\";width: 100%;border-bottom: 1px solid gray;flex-grow: 1;}#sk-container-id-2 div.sk-label:hover label.sk-toggleable__label {background-color: #d4ebff;}#sk-container-id-2 div.sk-serial::before {content: \"\";position: absolute;border-left: 1px solid gray;box-sizing: border-box;top: 0;bottom: 0;left: 50%;z-index: 0;}#sk-container-id-2 div.sk-serial {display: flex;flex-direction: column;align-items: center;background-color: white;padding-right: 0.2em;padding-left: 0.2em;position: relative;}#sk-container-id-2 div.sk-item {position: relative;z-index: 1;}#sk-container-id-2 div.sk-parallel {display: flex;align-items: stretch;justify-content: center;background-color: white;position: relative;}#sk-container-id-2 div.sk-item::before, #sk-container-id-2 div.sk-parallel-item::before {content: \"\";position: absolute;border-left: 1px solid gray;box-sizing: border-box;top: 0;bottom: 0;left: 50%;z-index: -1;}#sk-container-id-2 div.sk-parallel-item {display: flex;flex-direction: column;z-index: 1;position: relative;background-color: white;}#sk-container-id-2 div.sk-parallel-item:first-child::after {align-self: flex-end;width: 50%;}#sk-container-id-2 div.sk-parallel-item:last-child::after {align-self: flex-start;width: 50%;}#sk-container-id-2 div.sk-parallel-item:only-child::after {width: 0;}#sk-container-id-2 div.sk-dashed-wrapped {border: 1px dashed gray;margin: 0 0.4em 0.5em 0.4em;box-sizing: border-box;padding-bottom: 0.4em;background-color: white;}#sk-container-id-2 div.sk-label label {font-family: monospace;font-weight: bold;display: inline-block;line-height: 1.2em;}#sk-container-id-2 div.sk-label-container {text-align: center;}#sk-container-id-2 div.sk-container {/* jupyter's `normalize.less` sets `[hidden] { display: none; }` but bootstrap.min.css set `[hidden] { display: none !important; }` so we also need the `!important` here to be able to override the default hidden behavior on the sphinx rendered scikit-learn.org. See: https://github.com/scikit-learn/scikit-learn/issues/21755 */display: inline-block !important;position: relative;}#sk-container-id-2 div.sk-text-repr-fallback {display: none;}</style><div id=\"sk-container-id-2\" class=\"sk-top-container\"><div class=\"sk-text-repr-fallback\"><pre>GridSearchCV(cv=5, estimator=DecisionTreeClassifier(random_state=42),\n",
       "             param_grid={&#x27;criterion&#x27;: [&#x27;gini&#x27;, &#x27;entropy&#x27;],\n",
       "                         &#x27;max_depth&#x27;: [3, 4, 5, 6, 7]},\n",
       "             scoring=&#x27;accuracy&#x27;)</pre><b>In a Jupyter environment, please rerun this cell to show the HTML representation or trust the notebook. <br />On GitHub, the HTML representation is unable to render, please try loading this page with nbviewer.org.</b></div><div class=\"sk-container\" hidden><div class=\"sk-item sk-dashed-wrapped\"><div class=\"sk-label-container\"><div class=\"sk-label sk-toggleable\"><input class=\"sk-toggleable__control sk-hidden--visually\" id=\"sk-estimator-id-2\" type=\"checkbox\" ><label for=\"sk-estimator-id-2\" class=\"sk-toggleable__label sk-toggleable__label-arrow\">GridSearchCV</label><div class=\"sk-toggleable__content\"><pre>GridSearchCV(cv=5, estimator=DecisionTreeClassifier(random_state=42),\n",
       "             param_grid={&#x27;criterion&#x27;: [&#x27;gini&#x27;, &#x27;entropy&#x27;],\n",
       "                         &#x27;max_depth&#x27;: [3, 4, 5, 6, 7]},\n",
       "             scoring=&#x27;accuracy&#x27;)</pre></div></div></div><div class=\"sk-parallel\"><div class=\"sk-parallel-item\"><div class=\"sk-item\"><div class=\"sk-label-container\"><div class=\"sk-label sk-toggleable\"><input class=\"sk-toggleable__control sk-hidden--visually\" id=\"sk-estimator-id-3\" type=\"checkbox\" ><label for=\"sk-estimator-id-3\" class=\"sk-toggleable__label sk-toggleable__label-arrow\">estimator: DecisionTreeClassifier</label><div class=\"sk-toggleable__content\"><pre>DecisionTreeClassifier(random_state=42)</pre></div></div></div><div class=\"sk-serial\"><div class=\"sk-item\"><div class=\"sk-estimator sk-toggleable\"><input class=\"sk-toggleable__control sk-hidden--visually\" id=\"sk-estimator-id-4\" type=\"checkbox\" ><label for=\"sk-estimator-id-4\" class=\"sk-toggleable__label sk-toggleable__label-arrow\">DecisionTreeClassifier</label><div class=\"sk-toggleable__content\"><pre>DecisionTreeClassifier(random_state=42)</pre></div></div></div></div></div></div></div></div></div></div>"
      ],
      "text/plain": [
       "GridSearchCV(cv=5, estimator=DecisionTreeClassifier(random_state=42),\n",
       "             param_grid={'criterion': ['gini', 'entropy'],\n",
       "                         'max_depth': [3, 4, 5, 6, 7]},\n",
       "             scoring='accuracy')"
      ]
     },
     "execution_count": 18,
     "metadata": {},
     "output_type": "execute_result"
    }
   ],
   "source": [
    "param_grid = {\n",
    "    'criterion': ['gini', 'entropy'],\n",
    "    'max_depth': [3,4,5,6,7]\n",
    "    \n",
    "}\n",
    "\n",
    "grid_search = GridSearchCV(DecisionTreeClassifier(random_state=42), param_grid, cv=5, scoring='accuracy')\n",
    "grid_search.fit(xtrain, ytrain)"
   ]
  },
  {
   "cell_type": "code",
   "execution_count": 19,
   "id": "147f50c9",
   "metadata": {
    "execution": {
     "iopub.execute_input": "2025-02-19T14:36:18.390386Z",
     "iopub.status.busy": "2025-02-19T14:36:18.389944Z",
     "iopub.status.idle": "2025-02-19T14:36:18.400817Z",
     "shell.execute_reply": "2025-02-19T14:36:18.399329Z"
    },
    "papermill": {
     "duration": 0.025045,
     "end_time": "2025-02-19T14:36:18.403193",
     "exception": false,
     "start_time": "2025-02-19T14:36:18.378148",
     "status": "completed"
    },
    "tags": []
   },
   "outputs": [],
   "source": [
    "ypred1 = grid_search.predict(xtest)"
   ]
  },
  {
   "cell_type": "code",
   "execution_count": 20,
   "id": "b6c9a7ca",
   "metadata": {
    "execution": {
     "iopub.execute_input": "2025-02-19T14:36:18.424912Z",
     "iopub.status.busy": "2025-02-19T14:36:18.424483Z",
     "iopub.status.idle": "2025-02-19T14:36:18.434010Z",
     "shell.execute_reply": "2025-02-19T14:36:18.432601Z"
    },
    "papermill": {
     "duration": 0.023061,
     "end_time": "2025-02-19T14:36:18.436165",
     "exception": false,
     "start_time": "2025-02-19T14:36:18.413104",
     "status": "completed"
    },
    "tags": []
   },
   "outputs": [
    {
     "name": "stdout",
     "output_type": "stream",
     "text": [
      "Accuracy  0.33405542016427475\n"
     ]
    }
   ],
   "source": [
    "print('Accuracy ', accuracy_score(ytest, ypred1))"
   ]
  },
  {
   "cell_type": "markdown",
   "id": "949f4a58",
   "metadata": {
    "papermill": {
     "duration": 0.010377,
     "end_time": "2025-02-19T14:36:18.457142",
     "exception": false,
     "start_time": "2025-02-19T14:36:18.446765",
     "status": "completed"
    },
    "tags": []
   },
   "source": [
    "# Feature Engineering\n",
    "finding the best features for model bilding "
   ]
  },
  {
   "cell_type": "code",
   "execution_count": 21,
   "id": "24b506e6",
   "metadata": {
    "execution": {
     "iopub.execute_input": "2025-02-19T14:36:18.480179Z",
     "iopub.status.busy": "2025-02-19T14:36:18.479781Z",
     "iopub.status.idle": "2025-02-19T14:36:18.524222Z",
     "shell.execute_reply": "2025-02-19T14:36:18.522961Z"
    },
    "papermill": {
     "duration": 0.05887,
     "end_time": "2025-02-19T14:36:18.526770",
     "exception": false,
     "start_time": "2025-02-19T14:36:18.467900",
     "status": "completed"
    },
    "tags": []
   },
   "outputs": [],
   "source": [
    "from sklearn.feature_selection import SelectKBest\n",
    "from sklearn.feature_selection import chi2\n"
   ]
  },
  {
   "cell_type": "code",
   "execution_count": 22,
   "id": "cc4e7684",
   "metadata": {
    "execution": {
     "iopub.execute_input": "2025-02-19T14:36:18.549638Z",
     "iopub.status.busy": "2025-02-19T14:36:18.549159Z",
     "iopub.status.idle": "2025-02-19T14:36:18.694491Z",
     "shell.execute_reply": "2025-02-19T14:36:18.693041Z"
    },
    "papermill": {
     "duration": 0.159074,
     "end_time": "2025-02-19T14:36:18.696723",
     "exception": false,
     "start_time": "2025-02-19T14:36:18.537649",
     "status": "completed"
    },
    "tags": []
   },
   "outputs": [
    {
     "name": "stdout",
     "output_type": "stream",
     "text": [
      "[2.6723e+01 1.2255e+04 3.7898e+00 1.0542e+00 3.5051e-02 5.3398e-01\n",
      " 1.7180e+00 3.2645e+00 4.6733e-01 4.6079e-01 2.9770e-01 4.1986e+00\n",
      " 4.9018e-01 1.0900e+00 4.0890e+00 6.3019e-01 2.8039e+00 5.7675e-01\n",
      " 8.8346e-01 3.1625e+00 3.7066e-01 2.6358e-01 3.5684e-01 1.4917e+00\n",
      " 5.8057e-01 6.0609e-02]\n"
     ]
    }
   ],
   "source": [
    "# feature selection\n",
    "from sklearn.preprocessing import MinMaxScaler\n",
    "scaler = MinMaxScaler()\n",
    "X = np.log(x+1)\n",
    "X = scaler.fit_transform(X)\n",
    "test = SelectKBest(score_func = chi2, k=26)\n",
    "fit = test.fit(x,y)\n",
    "np.set_printoptions(precision = 4)\n",
    "print(fit.scores_)\n"
   ]
  },
  {
   "cell_type": "code",
   "execution_count": 23,
   "id": "5805053a",
   "metadata": {
    "execution": {
     "iopub.execute_input": "2025-02-19T14:36:18.718828Z",
     "iopub.status.busy": "2025-02-19T14:36:18.718396Z",
     "iopub.status.idle": "2025-02-19T14:36:18.731556Z",
     "shell.execute_reply": "2025-02-19T14:36:18.730008Z"
    },
    "papermill": {
     "duration": 0.026404,
     "end_time": "2025-02-19T14:36:18.733461",
     "exception": false,
     "start_time": "2025-02-19T14:36:18.707057",
     "status": "completed"
    },
    "tags": []
   },
   "outputs": [
    {
     "data": {
      "text/html": [
       "<div>\n",
       "<style scoped>\n",
       "    .dataframe tbody tr th:only-of-type {\n",
       "        vertical-align: middle;\n",
       "    }\n",
       "\n",
       "    .dataframe tbody tr th {\n",
       "        vertical-align: top;\n",
       "    }\n",
       "\n",
       "    .dataframe thead th {\n",
       "        text-align: right;\n",
       "    }\n",
       "</style>\n",
       "<table border=\"1\" class=\"dataframe\">\n",
       "  <thead>\n",
       "    <tr style=\"text-align: right;\">\n",
       "      <th></th>\n",
       "      <th>0</th>\n",
       "      <th>columns</th>\n",
       "    </tr>\n",
       "  </thead>\n",
       "  <tbody>\n",
       "    <tr>\n",
       "      <th>0</th>\n",
       "      <td>26.723369</td>\n",
       "      <td>Age</td>\n",
       "    </tr>\n",
       "    <tr>\n",
       "      <th>1</th>\n",
       "      <td>12254.827051</td>\n",
       "      <td>Billing Amount</td>\n",
       "    </tr>\n",
       "    <tr>\n",
       "      <th>2</th>\n",
       "      <td>3.789844</td>\n",
       "      <td>Admit_Period</td>\n",
       "    </tr>\n",
       "    <tr>\n",
       "      <th>3</th>\n",
       "      <td>1.054202</td>\n",
       "      <td>Gender_Male</td>\n",
       "    </tr>\n",
       "    <tr>\n",
       "      <th>4</th>\n",
       "      <td>0.035051</td>\n",
       "      <td>Blood Type_A-</td>\n",
       "    </tr>\n",
       "    <tr>\n",
       "      <th>5</th>\n",
       "      <td>0.533982</td>\n",
       "      <td>Blood Type_AB+</td>\n",
       "    </tr>\n",
       "    <tr>\n",
       "      <th>6</th>\n",
       "      <td>1.717967</td>\n",
       "      <td>Blood Type_AB-</td>\n",
       "    </tr>\n",
       "    <tr>\n",
       "      <th>7</th>\n",
       "      <td>3.264539</td>\n",
       "      <td>Blood Type_B+</td>\n",
       "    </tr>\n",
       "    <tr>\n",
       "      <th>8</th>\n",
       "      <td>0.467329</td>\n",
       "      <td>Blood Type_B-</td>\n",
       "    </tr>\n",
       "    <tr>\n",
       "      <th>9</th>\n",
       "      <td>0.460794</td>\n",
       "      <td>Blood Type_O+</td>\n",
       "    </tr>\n",
       "    <tr>\n",
       "      <th>10</th>\n",
       "      <td>0.297702</td>\n",
       "      <td>Blood Type_O-</td>\n",
       "    </tr>\n",
       "    <tr>\n",
       "      <th>11</th>\n",
       "      <td>4.198551</td>\n",
       "      <td>Medical Condition_Asthma</td>\n",
       "    </tr>\n",
       "    <tr>\n",
       "      <th>12</th>\n",
       "      <td>0.490184</td>\n",
       "      <td>Medical Condition_Cancer</td>\n",
       "    </tr>\n",
       "    <tr>\n",
       "      <th>13</th>\n",
       "      <td>1.090028</td>\n",
       "      <td>Medical Condition_Diabetes</td>\n",
       "    </tr>\n",
       "    <tr>\n",
       "      <th>14</th>\n",
       "      <td>4.089032</td>\n",
       "      <td>Medical Condition_Hypertension</td>\n",
       "    </tr>\n",
       "    <tr>\n",
       "      <th>15</th>\n",
       "      <td>0.630192</td>\n",
       "      <td>Medical Condition_Obesity</td>\n",
       "    </tr>\n",
       "    <tr>\n",
       "      <th>16</th>\n",
       "      <td>2.803904</td>\n",
       "      <td>Insurance Provider_Blue Cross</td>\n",
       "    </tr>\n",
       "    <tr>\n",
       "      <th>17</th>\n",
       "      <td>0.576755</td>\n",
       "      <td>Insurance Provider_Cigna</td>\n",
       "    </tr>\n",
       "    <tr>\n",
       "      <th>18</th>\n",
       "      <td>0.883462</td>\n",
       "      <td>Insurance Provider_Medicare</td>\n",
       "    </tr>\n",
       "    <tr>\n",
       "      <th>19</th>\n",
       "      <td>3.162501</td>\n",
       "      <td>Insurance Provider_UnitedHealthcare</td>\n",
       "    </tr>\n",
       "    <tr>\n",
       "      <th>20</th>\n",
       "      <td>0.370656</td>\n",
       "      <td>Admission Type_Emergency</td>\n",
       "    </tr>\n",
       "    <tr>\n",
       "      <th>21</th>\n",
       "      <td>0.263579</td>\n",
       "      <td>Admission Type_Urgent</td>\n",
       "    </tr>\n",
       "    <tr>\n",
       "      <th>22</th>\n",
       "      <td>0.356836</td>\n",
       "      <td>Medication_Ibuprofen</td>\n",
       "    </tr>\n",
       "    <tr>\n",
       "      <th>23</th>\n",
       "      <td>1.491730</td>\n",
       "      <td>Medication_Lipitor</td>\n",
       "    </tr>\n",
       "    <tr>\n",
       "      <th>24</th>\n",
       "      <td>0.580574</td>\n",
       "      <td>Medication_Paracetamol</td>\n",
       "    </tr>\n",
       "    <tr>\n",
       "      <th>25</th>\n",
       "      <td>0.060609</td>\n",
       "      <td>Medication_Penicillin</td>\n",
       "    </tr>\n",
       "  </tbody>\n",
       "</table>\n",
       "</div>"
      ],
      "text/plain": [
       "               0                              columns\n",
       "0      26.723369                                  Age\n",
       "1   12254.827051                       Billing Amount\n",
       "2       3.789844                         Admit_Period\n",
       "3       1.054202                          Gender_Male\n",
       "4       0.035051                        Blood Type_A-\n",
       "5       0.533982                       Blood Type_AB+\n",
       "6       1.717967                       Blood Type_AB-\n",
       "7       3.264539                        Blood Type_B+\n",
       "8       0.467329                        Blood Type_B-\n",
       "9       0.460794                        Blood Type_O+\n",
       "10      0.297702                        Blood Type_O-\n",
       "11      4.198551             Medical Condition_Asthma\n",
       "12      0.490184             Medical Condition_Cancer\n",
       "13      1.090028           Medical Condition_Diabetes\n",
       "14      4.089032       Medical Condition_Hypertension\n",
       "15      0.630192            Medical Condition_Obesity\n",
       "16      2.803904        Insurance Provider_Blue Cross\n",
       "17      0.576755             Insurance Provider_Cigna\n",
       "18      0.883462          Insurance Provider_Medicare\n",
       "19      3.162501  Insurance Provider_UnitedHealthcare\n",
       "20      0.370656             Admission Type_Emergency\n",
       "21      0.263579                Admission Type_Urgent\n",
       "22      0.356836                 Medication_Ibuprofen\n",
       "23      1.491730                   Medication_Lipitor\n",
       "24      0.580574               Medication_Paracetamol\n",
       "25      0.060609                Medication_Penicillin"
      ]
     },
     "execution_count": 23,
     "metadata": {},
     "output_type": "execute_result"
    }
   ],
   "source": [
    "acc =pd.DataFrame(fit.scores_)\n",
    "acc['columns'] = x.columns\n",
    "acc"
   ]
  },
  {
   "cell_type": "code",
   "execution_count": 24,
   "id": "000aec8f",
   "metadata": {
    "execution": {
     "iopub.execute_input": "2025-02-19T14:36:18.755960Z",
     "iopub.status.busy": "2025-02-19T14:36:18.755569Z",
     "iopub.status.idle": "2025-02-19T14:36:18.769824Z",
     "shell.execute_reply": "2025-02-19T14:36:18.768433Z"
    },
    "papermill": {
     "duration": 0.02798,
     "end_time": "2025-02-19T14:36:18.771918",
     "exception": false,
     "start_time": "2025-02-19T14:36:18.743938",
     "status": "completed"
    },
    "tags": []
   },
   "outputs": [
    {
     "data": {
      "text/html": [
       "<div>\n",
       "<style scoped>\n",
       "    .dataframe tbody tr th:only-of-type {\n",
       "        vertical-align: middle;\n",
       "    }\n",
       "\n",
       "    .dataframe tbody tr th {\n",
       "        vertical-align: top;\n",
       "    }\n",
       "\n",
       "    .dataframe thead th {\n",
       "        text-align: right;\n",
       "    }\n",
       "</style>\n",
       "<table border=\"1\" class=\"dataframe\">\n",
       "  <thead>\n",
       "    <tr style=\"text-align: right;\">\n",
       "      <th></th>\n",
       "      <th>Age</th>\n",
       "      <th>Billing Amount</th>\n",
       "    </tr>\n",
       "  </thead>\n",
       "  <tbody>\n",
       "    <tr>\n",
       "      <th>0</th>\n",
       "      <td>30</td>\n",
       "      <td>18856.281306</td>\n",
       "    </tr>\n",
       "    <tr>\n",
       "      <th>1</th>\n",
       "      <td>62</td>\n",
       "      <td>33643.327287</td>\n",
       "    </tr>\n",
       "    <tr>\n",
       "      <th>2</th>\n",
       "      <td>76</td>\n",
       "      <td>27955.096079</td>\n",
       "    </tr>\n",
       "    <tr>\n",
       "      <th>3</th>\n",
       "      <td>28</td>\n",
       "      <td>37909.782410</td>\n",
       "    </tr>\n",
       "    <tr>\n",
       "      <th>4</th>\n",
       "      <td>43</td>\n",
       "      <td>14238.317814</td>\n",
       "    </tr>\n",
       "    <tr>\n",
       "      <th>...</th>\n",
       "      <td>...</td>\n",
       "      <td>...</td>\n",
       "    </tr>\n",
       "    <tr>\n",
       "      <th>55495</th>\n",
       "      <td>42</td>\n",
       "      <td>2650.714952</td>\n",
       "    </tr>\n",
       "    <tr>\n",
       "      <th>55496</th>\n",
       "      <td>61</td>\n",
       "      <td>31457.797307</td>\n",
       "    </tr>\n",
       "    <tr>\n",
       "      <th>55497</th>\n",
       "      <td>38</td>\n",
       "      <td>27620.764717</td>\n",
       "    </tr>\n",
       "    <tr>\n",
       "      <th>55498</th>\n",
       "      <td>43</td>\n",
       "      <td>32451.092358</td>\n",
       "    </tr>\n",
       "    <tr>\n",
       "      <th>55499</th>\n",
       "      <td>53</td>\n",
       "      <td>4010.134172</td>\n",
       "    </tr>\n",
       "  </tbody>\n",
       "</table>\n",
       "<p>55392 rows × 2 columns</p>\n",
       "</div>"
      ],
      "text/plain": [
       "       Age  Billing Amount\n",
       "0       30    18856.281306\n",
       "1       62    33643.327287\n",
       "2       76    27955.096079\n",
       "3       28    37909.782410\n",
       "4       43    14238.317814\n",
       "...    ...             ...\n",
       "55495   42     2650.714952\n",
       "55496   61    31457.797307\n",
       "55497   38    27620.764717\n",
       "55498   43    32451.092358\n",
       "55499   53     4010.134172\n",
       "\n",
       "[55392 rows x 2 columns]"
      ]
     },
     "execution_count": 24,
     "metadata": {},
     "output_type": "execute_result"
    }
   ],
   "source": [
    "data = x[['Age', 'Billing Amount']]\n",
    "data"
   ]
  },
  {
   "cell_type": "code",
   "execution_count": 25,
   "id": "77edcc2c",
   "metadata": {
    "execution": {
     "iopub.execute_input": "2025-02-19T14:36:18.794636Z",
     "iopub.status.busy": "2025-02-19T14:36:18.794194Z",
     "iopub.status.idle": "2025-02-19T14:36:18.853769Z",
     "shell.execute_reply": "2025-02-19T14:36:18.852389Z"
    },
    "papermill": {
     "duration": 0.073237,
     "end_time": "2025-02-19T14:36:18.855881",
     "exception": false,
     "start_time": "2025-02-19T14:36:18.782644",
     "status": "completed"
    },
    "tags": []
   },
   "outputs": [
    {
     "data": {
      "text/html": [
       "<style>#sk-container-id-3 {color: black;background-color: white;}#sk-container-id-3 pre{padding: 0;}#sk-container-id-3 div.sk-toggleable {background-color: white;}#sk-container-id-3 label.sk-toggleable__label {cursor: pointer;display: block;width: 100%;margin-bottom: 0;padding: 0.3em;box-sizing: border-box;text-align: center;}#sk-container-id-3 label.sk-toggleable__label-arrow:before {content: \"▸\";float: left;margin-right: 0.25em;color: #696969;}#sk-container-id-3 label.sk-toggleable__label-arrow:hover:before {color: black;}#sk-container-id-3 div.sk-estimator:hover label.sk-toggleable__label-arrow:before {color: black;}#sk-container-id-3 div.sk-toggleable__content {max-height: 0;max-width: 0;overflow: hidden;text-align: left;background-color: #f0f8ff;}#sk-container-id-3 div.sk-toggleable__content pre {margin: 0.2em;color: black;border-radius: 0.25em;background-color: #f0f8ff;}#sk-container-id-3 input.sk-toggleable__control:checked~div.sk-toggleable__content {max-height: 200px;max-width: 100%;overflow: auto;}#sk-container-id-3 input.sk-toggleable__control:checked~label.sk-toggleable__label-arrow:before {content: \"▾\";}#sk-container-id-3 div.sk-estimator input.sk-toggleable__control:checked~label.sk-toggleable__label {background-color: #d4ebff;}#sk-container-id-3 div.sk-label input.sk-toggleable__control:checked~label.sk-toggleable__label {background-color: #d4ebff;}#sk-container-id-3 input.sk-hidden--visually {border: 0;clip: rect(1px 1px 1px 1px);clip: rect(1px, 1px, 1px, 1px);height: 1px;margin: -1px;overflow: hidden;padding: 0;position: absolute;width: 1px;}#sk-container-id-3 div.sk-estimator {font-family: monospace;background-color: #f0f8ff;border: 1px dotted black;border-radius: 0.25em;box-sizing: border-box;margin-bottom: 0.5em;}#sk-container-id-3 div.sk-estimator:hover {background-color: #d4ebff;}#sk-container-id-3 div.sk-parallel-item::after {content: \"\";width: 100%;border-bottom: 1px solid gray;flex-grow: 1;}#sk-container-id-3 div.sk-label:hover label.sk-toggleable__label {background-color: #d4ebff;}#sk-container-id-3 div.sk-serial::before {content: \"\";position: absolute;border-left: 1px solid gray;box-sizing: border-box;top: 0;bottom: 0;left: 50%;z-index: 0;}#sk-container-id-3 div.sk-serial {display: flex;flex-direction: column;align-items: center;background-color: white;padding-right: 0.2em;padding-left: 0.2em;position: relative;}#sk-container-id-3 div.sk-item {position: relative;z-index: 1;}#sk-container-id-3 div.sk-parallel {display: flex;align-items: stretch;justify-content: center;background-color: white;position: relative;}#sk-container-id-3 div.sk-item::before, #sk-container-id-3 div.sk-parallel-item::before {content: \"\";position: absolute;border-left: 1px solid gray;box-sizing: border-box;top: 0;bottom: 0;left: 50%;z-index: -1;}#sk-container-id-3 div.sk-parallel-item {display: flex;flex-direction: column;z-index: 1;position: relative;background-color: white;}#sk-container-id-3 div.sk-parallel-item:first-child::after {align-self: flex-end;width: 50%;}#sk-container-id-3 div.sk-parallel-item:last-child::after {align-self: flex-start;width: 50%;}#sk-container-id-3 div.sk-parallel-item:only-child::after {width: 0;}#sk-container-id-3 div.sk-dashed-wrapped {border: 1px dashed gray;margin: 0 0.4em 0.5em 0.4em;box-sizing: border-box;padding-bottom: 0.4em;background-color: white;}#sk-container-id-3 div.sk-label label {font-family: monospace;font-weight: bold;display: inline-block;line-height: 1.2em;}#sk-container-id-3 div.sk-label-container {text-align: center;}#sk-container-id-3 div.sk-container {/* jupyter's `normalize.less` sets `[hidden] { display: none; }` but bootstrap.min.css set `[hidden] { display: none !important; }` so we also need the `!important` here to be able to override the default hidden behavior on the sphinx rendered scikit-learn.org. See: https://github.com/scikit-learn/scikit-learn/issues/21755 */display: inline-block !important;position: relative;}#sk-container-id-3 div.sk-text-repr-fallback {display: none;}</style><div id=\"sk-container-id-3\" class=\"sk-top-container\"><div class=\"sk-text-repr-fallback\"><pre>DecisionTreeClassifier(max_depth=4, random_state=1)</pre><b>In a Jupyter environment, please rerun this cell to show the HTML representation or trust the notebook. <br />On GitHub, the HTML representation is unable to render, please try loading this page with nbviewer.org.</b></div><div class=\"sk-container\" hidden><div class=\"sk-item\"><div class=\"sk-estimator sk-toggleable\"><input class=\"sk-toggleable__control sk-hidden--visually\" id=\"sk-estimator-id-5\" type=\"checkbox\" checked><label for=\"sk-estimator-id-5\" class=\"sk-toggleable__label sk-toggleable__label-arrow\">DecisionTreeClassifier</label><div class=\"sk-toggleable__content\"><pre>DecisionTreeClassifier(max_depth=4, random_state=1)</pre></div></div></div></div></div>"
      ],
      "text/plain": [
       "DecisionTreeClassifier(max_depth=4, random_state=1)"
      ]
     },
     "execution_count": 25,
     "metadata": {},
     "output_type": "execute_result"
    }
   ],
   "source": [
    "dtrain, dtest, ytrain, ytest = train_test_split(data,y,test_size = 0.2, random_state = 1)\n",
    "model.fit(dtrain, ytrain)"
   ]
  },
  {
   "cell_type": "code",
   "execution_count": 26,
   "id": "84c90e0d",
   "metadata": {
    "execution": {
     "iopub.execute_input": "2025-02-19T14:36:18.878855Z",
     "iopub.status.busy": "2025-02-19T14:36:18.878520Z",
     "iopub.status.idle": "2025-02-19T14:36:18.885766Z",
     "shell.execute_reply": "2025-02-19T14:36:18.884468Z"
    },
    "papermill": {
     "duration": 0.021079,
     "end_time": "2025-02-19T14:36:18.887936",
     "exception": false,
     "start_time": "2025-02-19T14:36:18.866857",
     "status": "completed"
    },
    "tags": []
   },
   "outputs": [],
   "source": [
    "dpred = model.predict(dtest)"
   ]
  },
  {
   "cell_type": "code",
   "execution_count": 27,
   "id": "dc758568",
   "metadata": {
    "execution": {
     "iopub.execute_input": "2025-02-19T14:36:18.911894Z",
     "iopub.status.busy": "2025-02-19T14:36:18.911522Z",
     "iopub.status.idle": "2025-02-19T14:36:18.919291Z",
     "shell.execute_reply": "2025-02-19T14:36:18.917952Z"
    },
    "papermill": {
     "duration": 0.021589,
     "end_time": "2025-02-19T14:36:18.921134",
     "exception": false,
     "start_time": "2025-02-19T14:36:18.899545",
     "status": "completed"
    },
    "tags": []
   },
   "outputs": [
    {
     "name": "stdout",
     "output_type": "stream",
     "text": [
      "Accuracy  0.3327917682101273\n"
     ]
    }
   ],
   "source": [
    "print('Accuracy ', accuracy_score(dpred, ytest))"
   ]
  },
  {
   "cell_type": "code",
   "execution_count": null,
   "id": "c2490c18",
   "metadata": {
    "papermill": {
     "duration": 0.011053,
     "end_time": "2025-02-19T14:36:18.943471",
     "exception": false,
     "start_time": "2025-02-19T14:36:18.932418",
     "status": "completed"
    },
    "tags": []
   },
   "outputs": [],
   "source": []
  }
 ],
 "metadata": {
  "kaggle": {
   "accelerator": "none",
   "dataSources": [
    {
     "datasetId": 3934836,
     "sourceId": 8356547,
     "sourceType": "datasetVersion"
    }
   ],
   "dockerImageVersionId": 30886,
   "isGpuEnabled": false,
   "isInternetEnabled": true,
   "language": "python",
   "sourceType": "notebook"
  },
  "kernelspec": {
   "display_name": "Python 3",
   "language": "python",
   "name": "python3"
  },
  "language_info": {
   "codemirror_mode": {
    "name": "ipython",
    "version": 3
   },
   "file_extension": ".py",
   "mimetype": "text/x-python",
   "name": "python",
   "nbconvert_exporter": "python",
   "pygments_lexer": "ipython3",
   "version": "3.10.12"
  },
  "papermill": {
   "default_parameters": {},
   "duration": 16.924829,
   "end_time": "2025-02-19T14:36:20.079873",
   "environment_variables": {},
   "exception": null,
   "input_path": "__notebook__.ipynb",
   "output_path": "__notebook__.ipynb",
   "parameters": {},
   "start_time": "2025-02-19T14:36:03.155044",
   "version": "2.6.0"
  }
 },
 "nbformat": 4,
 "nbformat_minor": 5
}
